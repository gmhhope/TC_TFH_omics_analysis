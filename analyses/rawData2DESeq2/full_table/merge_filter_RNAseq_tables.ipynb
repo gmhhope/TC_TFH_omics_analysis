{
 "cells": [
  {
   "cell_type": "markdown",
   "metadata": {},
   "source": [
    "# merge filtered RNAseq tables\n",
    "- Of note, that the column orders may have changed since the script has updated but the values have been checked as the same in their corresponding columns."
   ]
  },
  {
   "cell_type": "code",
   "execution_count": 17,
   "metadata": {},
   "outputs": [],
   "source": [
    "import pandas as pd\n",
    "import os\n",
    "import math"
   ]
  },
  {
   "cell_type": "code",
   "execution_count": 18,
   "metadata": {},
   "outputs": [],
   "source": [
    "file_res = [\"./input/\" + x for x in os.listdir(\"./input/\") if \"result\" in x]"
   ]
  },
  {
   "cell_type": "code",
   "execution_count": 19,
   "metadata": {},
   "outputs": [
    {
     "data": {
      "text/plain": [
       "['./input/result_LRT_4grps.csv',\n",
       " './input/result_TCTnvsB6Tn4grps.csv',\n",
       " './input/result_TCTfhvsB6Tfh4grps.csv',\n",
       " './input/Correctedresult_TCTfhvsTCTn4grps.csv',\n",
       " './input/result_B6TfhvsB6Tn4grps.csv',\n",
       " './input/result_interaction4grps.csv']"
      ]
     },
     "execution_count": 19,
     "metadata": {},
     "output_type": "execute_result"
    }
   ],
   "source": [
    "file_res"
   ]
  },
  {
   "cell_type": "code",
   "execution_count": 20,
   "metadata": {
    "scrolled": true
   },
   "outputs": [
    {
     "data": {
      "text/plain": [
       "['LRT',\n",
       " 'TCTnvsB6Tn',\n",
       " 'TCTfhvsB6Tfh',\n",
       " 'TCTfhvsTCTn',\n",
       " 'B6TfhvsB6Tn',\n",
       " 'interaction']"
      ]
     },
     "execution_count": 20,
     "metadata": {},
     "output_type": "execute_result"
    }
   ],
   "source": [
    "names_l = [x.split(\"4grp\")[0].split(\"_\")[1] for x in file_res];names_l"
   ]
  },
  {
   "cell_type": "code",
   "execution_count": 21,
   "metadata": {},
   "outputs": [],
   "source": [
    "i = 0\n",
    "m_df = pd.DataFrame()\n",
    "for item in file_res:\n",
    "    if i ==0:\n",
    "        m_df = pd.read_csv(item, index_col=0).iloc[:,[1,3,4,5]]\n",
    "        m_df.columns = [x + \"_\" + names_l[i] for x in m_df.columns] \n",
    "    else:\n",
    "        temp = pd.read_csv(item, index_col=0).iloc[:,[1,3,4,5]]\n",
    "        temp.columns = [x + \"_\" + names_l[i] for x in temp.columns] \n",
    "        m_df = pd.merge(m_df,temp,left_index=True,right_index=True)\n",
    "    i+=1"
   ]
  },
  {
   "cell_type": "code",
   "execution_count": 22,
   "metadata": {
    "scrolled": false
   },
   "outputs": [
    {
     "data": {
      "text/plain": [
       "Index(['log2FoldChange_LRT', 'stat_LRT', 'pvalue_LRT', 'padj_LRT',\n",
       "       'log2FoldChange_TCTnvsB6Tn', 'stat_TCTnvsB6Tn', 'pvalue_TCTnvsB6Tn',\n",
       "       'padj_TCTnvsB6Tn', 'log2FoldChange_TCTfhvsB6Tfh', 'stat_TCTfhvsB6Tfh',\n",
       "       'pvalue_TCTfhvsB6Tfh', 'padj_TCTfhvsB6Tfh',\n",
       "       'log2FoldChange_TCTfhvsTCTn', 'stat_TCTfhvsTCTn', 'pvalue_TCTfhvsTCTn',\n",
       "       'padj_TCTfhvsTCTn', 'log2FoldChange_B6TfhvsB6Tn', 'stat_B6TfhvsB6Tn',\n",
       "       'pvalue_B6TfhvsB6Tn', 'padj_B6TfhvsB6Tn', 'log2FoldChange_interaction',\n",
       "       'stat_interaction', 'pvalue_interaction', 'padj_interaction'],\n",
       "      dtype='object')"
      ]
     },
     "execution_count": 22,
     "metadata": {},
     "output_type": "execute_result"
    }
   ],
   "source": [
    "m_df.columns"
   ]
  },
  {
   "cell_type": "code",
   "execution_count": 23,
   "metadata": {},
   "outputs": [],
   "source": [
    "rld_df = pd.read_csv(\"./input/rld_4grps.csv\",index_col=0)"
   ]
  },
  {
   "cell_type": "code",
   "execution_count": 24,
   "metadata": {},
   "outputs": [],
   "source": [
    "m_df2 = pd.merge(rld_df,m_df, left_index=True,right_index=True)"
   ]
  },
  {
   "cell_type": "code",
   "execution_count": 25,
   "metadata": {},
   "outputs": [],
   "source": [
    "m_df2.to_csv(\"full_RNAseq_LRT_added.csv\") # The original analysis doesn't include LRT test, thus here I have the suffix to distinguish it from other merged table."
   ]
  },
  {
   "cell_type": "markdown",
   "metadata": {},
   "source": [
    "---------------"
   ]
  }
 ],
 "metadata": {
  "kernelspec": {
   "display_name": "Python 3",
   "language": "python",
   "name": "python3"
  },
  "language_info": {
   "codemirror_mode": {
    "name": "ipython",
    "version": 3
   },
   "file_extension": ".py",
   "mimetype": "text/x-python",
   "name": "python",
   "nbconvert_exporter": "python",
   "pygments_lexer": "ipython3",
   "version": "3.8.5"
  }
 },
 "nbformat": 4,
 "nbformat_minor": 2
}
