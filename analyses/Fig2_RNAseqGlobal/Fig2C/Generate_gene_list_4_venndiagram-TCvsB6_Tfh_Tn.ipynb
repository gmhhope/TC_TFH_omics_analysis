{
 "cells": [
  {
   "cell_type": "code",
   "execution_count": 78,
   "metadata": {},
   "outputs": [],
   "source": [
    "import pandas as pd\n",
    "import os \n",
    "import math"
   ]
  },
  {
   "cell_type": "code",
   "execution_count": 79,
   "metadata": {},
   "outputs": [],
   "source": [
    "path = \"/Volumes/LM_MG_drive_one/Morel_meta_analyses_transcriptomics/gene_overlap_analysis_B6vsTC_Tn_Tfh/result_tab/\"\n",
    "list_files = os.listdir(path)"
   ]
  },
  {
   "cell_type": "code",
   "execution_count": 80,
   "metadata": {},
   "outputs": [],
   "source": [
    "csv_files = [x for x in list_files if \".csv\" in x and \".ipynb\" and \"merged\" not in x]"
   ]
  },
  {
   "cell_type": "code",
   "execution_count": 81,
   "metadata": {
    "scrolled": false
   },
   "outputs": [
    {
     "data": {
      "text/plain": [
       "['result_TCvsB6_r2_Tfh.csv', 'result_Tn_B6vsTC_r2.csv']"
      ]
     },
     "execution_count": 81,
     "metadata": {},
     "output_type": "execute_result"
    }
   ],
   "source": [
    "csv_files"
   ]
  },
  {
   "cell_type": "code",
   "execution_count": 82,
   "metadata": {
    "scrolled": true
   },
   "outputs": [
    {
     "data": {
      "text/plain": [
       "['TCvsB6_r2_Tfh', 'Tn_B6vsTC_r2']"
      ]
     },
     "execution_count": 82,
     "metadata": {},
     "output_type": "execute_result"
    }
   ],
   "source": [
    "labels = [x.split(\".\")[0].replace(\"result_\",\"\") for x in csv_files]\n",
    "labels"
   ]
  },
  {
   "cell_type": "code",
   "execution_count": 6,
   "metadata": {},
   "outputs": [],
   "source": [
    "df_l = []\n",
    "i = 0\n",
    "for item in csv_files:\n",
    "    temp = pd.read_csv(path + item)\n",
    "    temp.columns = ['Unnamed: 0'] + [labels[i] + \"_\" + x for x in temp.columns[1:]] \n",
    "    i+=1\n",
    "    df_l.append(temp)"
   ]
  },
  {
   "cell_type": "code",
   "execution_count": 7,
   "metadata": {
    "scrolled": false
   },
   "outputs": [
    {
     "data": {
      "text/plain": [
       "[Index(['Unnamed: 0', 'TCvsB6_r2_Tfh_baseMean', 'TCvsB6_r2_Tfh_log2FoldChange',\n",
       "        'TCvsB6_r2_Tfh_lfcSE', 'TCvsB6_r2_Tfh_stat', 'TCvsB6_r2_Tfh_pvalue',\n",
       "        'TCvsB6_r2_Tfh_padj'],\n",
       "       dtype='object'),\n",
       " Index(['Unnamed: 0', 'Tn_B6vsTC_r2_baseMean', 'Tn_B6vsTC_r2_log2FoldChange',\n",
       "        'Tn_B6vsTC_r2_lfcSE', 'Tn_B6vsTC_r2_stat', 'Tn_B6vsTC_r2_pvalue',\n",
       "        'Tn_B6vsTC_r2_padj'],\n",
       "       dtype='object')]"
      ]
     },
     "execution_count": 7,
     "metadata": {},
     "output_type": "execute_result"
    }
   ],
   "source": [
    "[x.columns for x in df_l]"
   ]
  },
  {
   "cell_type": "code",
   "execution_count": 8,
   "metadata": {},
   "outputs": [],
   "source": [
    "m_df = pd.DataFrame()\n",
    "for x in df_l:\n",
    "    if m_df.shape[0] ==0:\n",
    "        m_df = x\n",
    "    else:\n",
    "        m_df = pd.merge(m_df,x,on ='Unnamed: 0')"
   ]
  },
  {
   "cell_type": "code",
   "execution_count": 9,
   "metadata": {},
   "outputs": [],
   "source": [
    "m_df.to_csv(\"merged_res_df.csv\",index=False)"
   ]
  },
  {
   "cell_type": "markdown",
   "metadata": {},
   "source": [
    "# 1st 2 gene lists"
   ]
  },
  {
   "cell_type": "markdown",
   "metadata": {},
   "source": [
    "#### log2FC > 0 ; padj < 0.05"
   ]
  },
  {
   "cell_type": "code",
   "execution_count": 26,
   "metadata": {},
   "outputs": [],
   "source": [
    "gene_dict = {}\n",
    "res_l = []\n",
    "i=0\n",
    "for x in df_l:\n",
    "    \n",
    "    padj_n = [y for y in x.columns if \"padj\" in y]\n",
    "    FC_n = [z for z in x.columns if \"log2FoldChange\" in z]\n",
    "    gene_dict.update({\"padj0.05_log2FC_h0\" + labels[i]: x.loc[((x[padj_n[0]]<0.05) & (x[FC_n[0]]>0)),'Unnamed: 0'].tolist()})\n",
    "    i = i+1"
   ]
  },
  {
   "cell_type": "code",
   "execution_count": 27,
   "metadata": {
    "scrolled": true
   },
   "outputs": [
    {
     "data": {
      "text/plain": [
       "dict_keys(['padj0.05_log2FC_h0TCvsB6_r2_Tfh', 'padj0.05_log2FC_h0Tn_B6vsTC_r2'])"
      ]
     },
     "execution_count": 27,
     "metadata": {},
     "output_type": "execute_result"
    }
   ],
   "source": [
    "gene_dict.keys()"
   ]
  },
  {
   "cell_type": "code",
   "execution_count": 28,
   "metadata": {},
   "outputs": [],
   "source": [
    "[str(k) + \"  \" +str(len(v)) for k,v in gene_dict.items()]\n",
    "\n",
    "s = \"\"\n",
    "for k,v in gene_dict.items():\n",
    "        s +=  k + \"\\t\"\n",
    "        s += (\"\\t\").join(v) + \"\\n\"        \n",
    "\n",
    "out = open('gene_lists_padj0.05_FChigher0.txt', 'w')\n",
    "out.write(s)\n",
    "out.close()"
   ]
  },
  {
   "cell_type": "code",
   "execution_count": 29,
   "metadata": {},
   "outputs": [],
   "source": [
    "from matplotlib_venn import venn2, venn2_circles\n",
    "import matplotlib.pyplot as plt"
   ]
  },
  {
   "cell_type": "code",
   "execution_count": 30,
   "metadata": {},
   "outputs": [
    {
     "data": {
      "image/png": "[encoded data removed]",
      "text/plain": [
       "<Figure size 432x288 with 1 Axes>"
      ]
     },
     "metadata": {},
     "output_type": "display_data"
    }
   ],
   "source": [
    "#Looking only in spleen\n",
    "f = plt.figure()\n",
    "\n",
    "venn2([set(gene_dict[list(gene_dict.keys())[0]]),\n",
    "       set(gene_dict[list(gene_dict.keys())[1]])], #set(gene_dict[list(gene_dict.keys())[3]])\n",
    "      set_labels = (\"TC v.s. B6 (Tfh)\", \n",
    "                    \"TC v.s. B6 (Tn)\"))\n",
    "\n",
    "plt.title('Comparison of padj0.05_log2FC_h0_TCvsB6_Tn&Tfh: \\n')\n",
    "plt.show()\n",
    "\n",
    "f.savefig(\"Comparison of padj0.05_log2FC_h0_TCvsB6_Tn&Tfh.pdf\", bbox_inches='tight')"
   ]
  },
  {
   "cell_type": "markdown",
   "metadata": {},
   "source": [
    "-----------"
   ]
  },
  {
   "cell_type": "markdown",
   "metadata": {},
   "source": [
    "#### log2FC < 0 ; padj < 0.05"
   ]
  },
  {
   "cell_type": "code",
   "execution_count": 31,
   "metadata": {},
   "outputs": [],
   "source": [
    "gene_dict = {}\n",
    "res_l = []\n",
    "i=0\n",
    "for x in df_l:\n",
    "    padj_n = [y for y in x.columns if \"padj\" in y]\n",
    "    FC_n = [z for z in x.columns if \"log2FoldChange\" in z]\n",
    "    gene_dict.update({\"padj0.05_log2FC_l0\" + labels[i]: x.loc[((x[padj_n[0]]<0.05) & (x[FC_n[0]]<0)),'Unnamed: 0'].tolist()})\n",
    "    i = i+1"
   ]
  },
  {
   "cell_type": "code",
   "execution_count": 32,
   "metadata": {
    "scrolled": true
   },
   "outputs": [
    {
     "data": {
      "text/plain": [
       "dict_keys(['padj0.05_log2FC_l0TCvsB6_r2_Tfh', 'padj0.05_log2FC_l0Tn_B6vsTC_r2'])"
      ]
     },
     "execution_count": 32,
     "metadata": {},
     "output_type": "execute_result"
    }
   ],
   "source": [
    "gene_dict.keys()"
   ]
  },
  {
   "cell_type": "code",
   "execution_count": 33,
   "metadata": {},
   "outputs": [],
   "source": [
    "[str(k) + \"  \" +str(len(v)) for k,v in gene_dict.items()]\n",
    "\n",
    "s = \"\"\n",
    "for k,v in gene_dict.items():\n",
    "        s +=  k + \"\\t\"\n",
    "        s += (\"\\t\").join(v) + \"\\n\"        \n",
    "\n",
    "out = open('gene_lists_padj0.05_FClower0.txt', 'w')\n",
    "out.write(s)\n",
    "out.close()"
   ]
  },
  {
   "cell_type": "code",
   "execution_count": 34,
   "metadata": {},
   "outputs": [
    {
     "data": {
      "image/png": "[encoded data removed]",
      "text/plain": [
       "<Figure size 432x288 with 1 Axes>"
      ]
     },
     "metadata": {},
     "output_type": "display_data"
    }
   ],
   "source": [
    "#Looking only in spleen\n",
    "f = plt.figure()\n",
    "\n",
    "venn2([set(gene_dict[list(gene_dict.keys())[0]]),\n",
    "       set(gene_dict[list(gene_dict.keys())[1]])], #set(gene_dict[list(gene_dict.keys())[3]])\n",
    "      set_labels = (\"TC v.s. B6 (Tfh)\", \n",
    "                    \"TC v.s. B6 (Tn)\"))\n",
    "\n",
    "plt.title('Comparison of padj0.05_log2FC_l0_TCvsB6_Tn&Tfh: \\n')\n",
    "plt.show()\n",
    "\n",
    "f.savefig(\"Comparison_of_padj0.05_log2FC_l0_TCvsB6_Tn&Tfh.pdf\", bbox_inches='tight')"
   ]
  },
  {
   "cell_type": "markdown",
   "metadata": {},
   "source": [
    "---------------"
   ]
  },
  {
   "cell_type": "markdown",
   "metadata": {},
   "source": [
    "-------------"
   ]
  },
  {
   "cell_type": "markdown",
   "metadata": {},
   "source": [
    "-------------"
   ]
  },
  {
   "cell_type": "markdown",
   "metadata": {},
   "source": [
    "-------------"
   ]
  },
  {
   "cell_type": "markdown",
   "metadata": {},
   "source": [
    "-------------"
   ]
  },
  {
   "cell_type": "markdown",
   "metadata": {},
   "source": [
    "#### 2nd gene list"
   ]
  },
  {
   "cell_type": "markdown",
   "metadata": {},
   "source": [
    "log2FC > 0; padj < 0.1; direction: higher"
   ]
  },
  {
   "cell_type": "code",
   "execution_count": 100,
   "metadata": {},
   "outputs": [],
   "source": [
    "#parameter need to change\n",
    "key= \"TCvsB6_Tfh&Tn\"\n",
    "contrasts = [\"TC v.s. B6 (Tfh)\", \"TC v.s. B6 (Tn)\"] #may look up the gene_dict.keys() later\n",
    "padj_th = 0.1\n",
    "FC_th = 1 #1 or 1.5 or 2"
   ]
  },
  {
   "cell_type": "code",
   "execution_count": 101,
   "metadata": {},
   "outputs": [
    {
     "data": {
      "text/plain": [
       "0.0"
      ]
     },
     "execution_count": 101,
     "metadata": {},
     "output_type": "execute_result"
    }
   ],
   "source": [
    "direction = 1\n",
    "log2FC_th = math.log(FC_th,2)*direction;log2FC_th"
   ]
  },
  {
   "cell_type": "code",
   "execution_count": 102,
   "metadata": {},
   "outputs": [],
   "source": [
    "gene_dict = {}\n",
    "res_l = []\n",
    "i=0\n",
    "for x in df_l:\n",
    "    padj_n = [y for y in x.columns if \"padj\" in y]\n",
    "    FC_n = [z for z in x.columns if \"log2FoldChange\" in z]\n",
    "    gene_dict.update({\"padj_\" + str(padj_th) + \"FC_h_\" + str(FC_th) + \"_\" + \n",
    "                      labels[i]: x.loc[((x[padj_n[0]]<padj_th) & (x[FC_n[0]]>log2FC_th)),'Unnamed: 0'].tolist()})\n",
    "    i = i+1"
   ]
  },
  {
   "cell_type": "code",
   "execution_count": 103,
   "metadata": {
    "scrolled": true
   },
   "outputs": [
    {
     "data": {
      "text/plain": [
       "dict_keys(['padj_0.1FC_h_1_TCvsB6_r2_Tfh', 'padj_0.1FC_h_1_Tn_B6vsTC_r2'])"
      ]
     },
     "execution_count": 103,
     "metadata": {},
     "output_type": "execute_result"
    }
   ],
   "source": [
    "gene_dict.keys()"
   ]
  },
  {
   "cell_type": "code",
   "execution_count": 104,
   "metadata": {},
   "outputs": [],
   "source": [
    "[str(k) + \"  \" +str(len(v)) for k,v in gene_dict.items()]\n",
    "\n",
    "s = \"\"\n",
    "for k,v in gene_dict.items():\n",
    "        s +=  k + \"\\t\"\n",
    "        s += (\"\\t\").join(v) + \"\\n\"        \n",
    "\n",
    "out = open('gene_lists_' + \"padj_\" + str(padj_th) + \"FC_h_\" + str(FC_th) + \"_\" + key + '.txt', 'w')\n",
    "out.write(s)\n",
    "out.close()"
   ]
  },
  {
   "cell_type": "code",
   "execution_count": 105,
   "metadata": {
    "scrolled": false
   },
   "outputs": [
    {
     "data": {
      "image/png": "[encoded data removed]",
      "text/plain": [
       "<Figure size 432x288 with 1 Axes>"
      ]
     },
     "metadata": {},
     "output_type": "display_data"
    }
   ],
   "source": [
    "#Looking only in spleen\n",
    "f = plt.figure()\n",
    "\n",
    "venn2([set(gene_dict[list(gene_dict.keys())[0]]),\n",
    "       set(gene_dict[list(gene_dict.keys())[1]])], #set(gene_dict[list(gene_dict.keys())[3]])\n",
    "      set_labels = contrasts)\n",
    "\n",
    "plt.title('Comparison_of' + \"padj_\" + str(padj_th) + \"FC_h_\" + str(FC_th) + \"_\" + key +': \\n')\n",
    "plt.show()\n",
    "\n",
    "f.savefig('Comparison_of' + \"padj_\" + str(padj_th) + \"FC_h_\" + str(FC_th) + \"_\" + key + '.pdf', bbox_inches='tight')"
   ]
  },
  {
   "cell_type": "markdown",
   "metadata": {},
   "source": [
    "-------"
   ]
  },
  {
   "cell_type": "markdown",
   "metadata": {},
   "source": [
    "#### log2FC < 0 (FC < 1); padj < 0.1"
   ]
  },
  {
   "cell_type": "code",
   "execution_count": 106,
   "metadata": {},
   "outputs": [],
   "source": [
    "#parameter need to change\n",
    "key= \"TCvsB6_Tfh&Tn\"\n",
    "contrasts = [\"TC v.s. B6 (Tfh)\", \"TC v.s. B6 (Tn)\"] #may look up the gene_dict.keys() later\n",
    "padj_th = 0.1\n",
    "FC_th = 1 #1 or 1.5 or 2"
   ]
  },
  {
   "cell_type": "code",
   "execution_count": 107,
   "metadata": {},
   "outputs": [
    {
     "data": {
      "text/plain": [
       "-0.0"
      ]
     },
     "execution_count": 107,
     "metadata": {},
     "output_type": "execute_result"
    }
   ],
   "source": [
    "direction = -1\n",
    "\n",
    "log2FC_th = math.log(FC_th,2)*direction;log2FC_th"
   ]
  },
  {
   "cell_type": "code",
   "execution_count": 108,
   "metadata": {},
   "outputs": [],
   "source": [
    "gene_dict = {}\n",
    "res_l = []\n",
    "i=0\n",
    "for x in df_l:\n",
    "    padj_n = [y for y in x.columns if \"padj\" in y]\n",
    "    FC_n = [z for z in x.columns if \"log2FoldChange\" in z]\n",
    "    gene_dict.update({\"padj_\" + str(padj_th) + \"FC_l_\" + str(FC_th) + \"_\" + \n",
    "                      labels[i]: x.loc[((x[padj_n[0]]<padj_th) & (x[FC_n[0]]<log2FC_th)),'Unnamed: 0'].tolist()})\n",
    "    i = i+1"
   ]
  },
  {
   "cell_type": "code",
   "execution_count": 109,
   "metadata": {
    "scrolled": true
   },
   "outputs": [
    {
     "data": {
      "text/plain": [
       "dict_keys(['padj_0.1FC_l_1_TCvsB6_r2_Tfh', 'padj_0.1FC_l_1_Tn_B6vsTC_r2'])"
      ]
     },
     "execution_count": 109,
     "metadata": {},
     "output_type": "execute_result"
    }
   ],
   "source": [
    "gene_dict.keys()"
   ]
  },
  {
   "cell_type": "code",
   "execution_count": 110,
   "metadata": {},
   "outputs": [],
   "source": [
    "[str(k) + \"  \" +str(len(v)) for k,v in gene_dict.items()]\n",
    "\n",
    "s = \"\"\n",
    "for k,v in gene_dict.items():\n",
    "        s +=  k + \"\\t\"\n",
    "        s += (\"\\t\").join(v) + \"\\n\"        \n",
    "\n",
    "out = open('gene_lists_' + \"padj_\" + str(padj_th) + \"FC_l_\" + str(FC_th) + \"_\" + key + '.txt', 'w')\n",
    "out.write(s)\n",
    "out.close()"
   ]
  },
  {
   "cell_type": "code",
   "execution_count": 111,
   "metadata": {
    "scrolled": false
   },
   "outputs": [
    {
     "data": {
      "image/png": "[encoded data removed]",
      "text/plain": [
       "<Figure size 432x288 with 1 Axes>"
      ]
     },
     "metadata": {},
     "output_type": "display_data"
    }
   ],
   "source": [
    "#Looking only in spleen\n",
    "f = plt.figure()\n",
    "\n",
    "venn2([set(gene_dict[list(gene_dict.keys())[0]]),\n",
    "       set(gene_dict[list(gene_dict.keys())[1]])], #set(gene_dict[list(gene_dict.keys())[3]])\n",
    "      set_labels = contrasts)\n",
    "\n",
    "plt.title('Comparison_of' + \"padj_\" + str(padj_th) + \"FC_l_\" + str(FC_th) + \"_\" + key +': \\n')\n",
    "plt.show()\n",
    "\n",
    "f.savefig('Comparison_of' + \"padj_\" + str(padj_th) + \"FC_l_\" + str(FC_th) + \"_\" + key + '.pdf', bbox_inches='tight')"
   ]
  },
  {
   "cell_type": "markdown",
   "metadata": {},
   "source": [
    "------------"
   ]
  },
  {
   "cell_type": "markdown",
   "metadata": {},
   "source": [
    "--------"
   ]
  },
  {
   "cell_type": "markdown",
   "metadata": {},
   "source": [
    "----------"
   ]
  },
  {
   "cell_type": "markdown",
   "metadata": {},
   "source": [
    "#### 3rd 2 gene list"
   ]
  },
  {
   "cell_type": "markdown",
   "metadata": {},
   "source": [
    "log2FC > 0.584962501; padj < 0.05; "
   ]
  },
  {
   "cell_type": "code",
   "execution_count": 117,
   "metadata": {},
   "outputs": [],
   "source": [
    "#parameter need to change\n",
    "key= \"TCvsB6_Tfh&Tn\"\n",
    "contrasts = [\"TC v.s. B6 (Tfh)\", \"TC v.s. B6 (Tn)\"] #may look up the gene_dict.keys() later\n",
    "padj_th = 0.05 # 0.05 or 0.1\n",
    "FC_th = 1.5 #1 or 1.5 or 2"
   ]
  },
  {
   "cell_type": "code",
   "execution_count": 118,
   "metadata": {},
   "outputs": [
    {
     "data": {
      "text/plain": [
       "0.5849625007211562"
      ]
     },
     "execution_count": 118,
     "metadata": {},
     "output_type": "execute_result"
    }
   ],
   "source": [
    "direction = 1\n",
    "log2FC_th = math.log(FC_th,2)*direction;log2FC_th"
   ]
  },
  {
   "cell_type": "code",
   "execution_count": 119,
   "metadata": {},
   "outputs": [],
   "source": [
    "gene_dict = {}\n",
    "res_l = []\n",
    "i=0\n",
    "for x in df_l:\n",
    "    padj_n = [y for y in x.columns if \"padj\" in y]\n",
    "    FC_n = [z for z in x.columns if \"log2FoldChange\" in z]\n",
    "    gene_dict.update({\"padj_\" + str(padj_th) + \"FC_h_\" + str(FC_th) + \"_\" + \n",
    "                      labels[i]: x.loc[((x[padj_n[0]]<padj_th) & (x[FC_n[0]]>log2FC_th)),'Unnamed: 0'].tolist()}) #must be >\n",
    "    i = i+1"
   ]
  },
  {
   "cell_type": "code",
   "execution_count": 120,
   "metadata": {
    "scrolled": true
   },
   "outputs": [
    {
     "data": {
      "text/plain": [
       "dict_keys(['padj_0.05FC_h_1.5_TCvsB6_r2_Tfh', 'padj_0.05FC_h_1.5_Tn_B6vsTC_r2'])"
      ]
     },
     "execution_count": 120,
     "metadata": {},
     "output_type": "execute_result"
    }
   ],
   "source": [
    "gene_dict.keys()"
   ]
  },
  {
   "cell_type": "code",
   "execution_count": 121,
   "metadata": {},
   "outputs": [],
   "source": [
    "[str(k) + \"  \" +str(len(v)) for k,v in gene_dict.items()]\n",
    "\n",
    "s = \"\"\n",
    "for k,v in gene_dict.items():\n",
    "        s +=  k + \"\\t\"\n",
    "        s += (\"\\t\").join(v) + \"\\n\"        \n",
    "\n",
    "out = open('gene_lists_' + \"padj_\" + str(padj_th) + \"FC_h_\" + str(FC_th) + \"_\" + key + '.txt', 'w')\n",
    "out.write(s)\n",
    "out.close()"
   ]
  },
  {
   "cell_type": "code",
   "execution_count": 122,
   "metadata": {
    "scrolled": true
   },
   "outputs": [
    {
     "data": {
      "image/png": "[encoded data removed]",
      "text/plain": [
       "<Figure size 432x288 with 1 Axes>"
      ]
     },
     "metadata": {},
     "output_type": "display_data"
    }
   ],
   "source": [
    "#Looking only in spleen\n",
    "f = plt.figure()\n",
    "\n",
    "venn2([set(gene_dict[list(gene_dict.keys())[0]]),\n",
    "       set(gene_dict[list(gene_dict.keys())[1]])], #set(gene_dict[list(gene_dict.keys())[3]])\n",
    "      set_labels = contrasts)\n",
    "\n",
    "plt.title('Comparison_of' + \"padj_\" + str(padj_th) + \"FC_h_\" + str(FC_th) + \"_\" + key +': \\n')\n",
    "plt.show()\n",
    "\n",
    "f.savefig('Comparison_of' + \"padj_\" + str(padj_th) + \"FC_h_\" + str(FC_th) + \"_\" + key + '.pdf', bbox_inches='tight')"
   ]
  },
  {
   "cell_type": "markdown",
   "metadata": {},
   "source": [
    "-------"
   ]
  },
  {
   "cell_type": "markdown",
   "metadata": {},
   "source": [
    "#### log2FC < -0.584962501 (FC < 1.5); padj < 0.05; "
   ]
  },
  {
   "cell_type": "code",
   "execution_count": 123,
   "metadata": {},
   "outputs": [],
   "source": [
    "#parameter need to change\n",
    "key= \"TCvsB6_Tfh&Tn\"\n",
    "contrasts = [\"TC v.s. B6 (Tfh)\", \"TC v.s. B6 (Tn)\"] #may look up the gene_dict.keys() later\n",
    "padj_th = 0.05 # 0.05 or 0.1\n",
    "FC_th = 1.5 #1 or 1.5 or 2"
   ]
  },
  {
   "cell_type": "code",
   "execution_count": 124,
   "metadata": {},
   "outputs": [
    {
     "data": {
      "text/plain": [
       "-0.5849625007211562"
      ]
     },
     "execution_count": 124,
     "metadata": {},
     "output_type": "execute_result"
    }
   ],
   "source": [
    "direction = -1\n",
    "\n",
    "log2FC_th = math.log(FC_th,2)*direction;log2FC_th"
   ]
  },
  {
   "cell_type": "code",
   "execution_count": 125,
   "metadata": {},
   "outputs": [],
   "source": [
    "gene_dict = {}\n",
    "res_l = []\n",
    "i=0\n",
    "for x in df_l:\n",
    "    padj_n = [y for y in x.columns if \"padj\" in y]\n",
    "    FC_n = [z for z in x.columns if \"log2FoldChange\" in z]\n",
    "    gene_dict.update({\"padj_\" + str(padj_th) + \"FC_l_\" + str(FC_th) + \"_\" + \n",
    "                      labels[i]: x.loc[((x[padj_n[0]]<padj_th) & (x[FC_n[0]]<log2FC_th)),'Unnamed: 0'].tolist()})\n",
    "    i = i+1"
   ]
  },
  {
   "cell_type": "code",
   "execution_count": 126,
   "metadata": {
    "scrolled": true
   },
   "outputs": [
    {
     "data": {
      "text/plain": [
       "dict_keys(['padj_0.05FC_l_1.5_TCvsB6_r2_Tfh', 'padj_0.05FC_l_1.5_Tn_B6vsTC_r2'])"
      ]
     },
     "execution_count": 126,
     "metadata": {},
     "output_type": "execute_result"
    }
   ],
   "source": [
    "gene_dict.keys()"
   ]
  },
  {
   "cell_type": "code",
   "execution_count": 127,
   "metadata": {},
   "outputs": [],
   "source": [
    "[str(k) + \"  \" +str(len(v)) for k,v in gene_dict.items()]\n",
    "\n",
    "s = \"\"\n",
    "for k,v in gene_dict.items():\n",
    "        s +=  k + \"\\t\"\n",
    "        s += (\"\\t\").join(v) + \"\\n\"        \n",
    "\n",
    "out = open('gene_lists_' + \"padj_\" + str(padj_th) + \"FC_l_\" + str(FC_th) + \"_\" + key + '.txt', 'w')\n",
    "out.write(s)\n",
    "out.close()"
   ]
  },
  {
   "cell_type": "code",
   "execution_count": 128,
   "metadata": {
    "scrolled": false
   },
   "outputs": [
    {
     "data": {
      "image/png": "[encoded data removed]",
      "text/plain": [
       "<Figure size 432x288 with 1 Axes>"
      ]
     },
     "metadata": {},
     "output_type": "display_data"
    }
   ],
   "source": [
    "#Looking only in spleen\n",
    "f = plt.figure()\n",
    "\n",
    "venn2([set(gene_dict[list(gene_dict.keys())[0]]),\n",
    "       set(gene_dict[list(gene_dict.keys())[1]])], #set(gene_dict[list(gene_dict.keys())[3]])\n",
    "      set_labels = contrasts)\n",
    "\n",
    "plt.title('Comparison_of' + \"padj_\" + str(padj_th) + \"FC_l_\" + str(FC_th) + \"_\" + key +': \\n')\n",
    "plt.show()\n",
    "\n",
    "f.savefig('Comparison_of' + \"padj_\" + str(padj_th) + \"FC_l_\" + str(FC_th) + \"_\" + key + '.pdf', bbox_inches='tight')"
   ]
  },
  {
   "cell_type": "markdown",
   "metadata": {},
   "source": [
    "-------------"
   ]
  },
  {
   "cell_type": "markdown",
   "metadata": {},
   "source": [
    "-------"
   ]
  },
  {
   "cell_type": "markdown",
   "metadata": {},
   "source": [
    "#### 4th gene list"
   ]
  },
  {
   "cell_type": "markdown",
   "metadata": {},
   "source": [
    "log2FC > 1 (FC >2 ); padj < 0.05; "
   ]
  },
  {
   "cell_type": "code",
   "execution_count": 131,
   "metadata": {},
   "outputs": [],
   "source": [
    "#parameter need to change\n",
    "key= \"TCvsB6_Tfh&Tn\"\n",
    "contrasts = [\"TC v.s. B6 (Tfh)\", \"TC v.s. B6 (Tn)\"] #may look up the gene_dict.keys() later\n",
    "padj_th = 0.05 # 0.05 or 0.1\n",
    "FC_th = 2 #1 or 1.5 or 2"
   ]
  },
  {
   "cell_type": "code",
   "execution_count": 132,
   "metadata": {},
   "outputs": [
    {
     "data": {
      "text/plain": [
       "1.0"
      ]
     },
     "execution_count": 132,
     "metadata": {},
     "output_type": "execute_result"
    }
   ],
   "source": [
    "direction = 1\n",
    "log2FC_th = math.log(FC_th,2)*direction;log2FC_th"
   ]
  },
  {
   "cell_type": "code",
   "execution_count": 133,
   "metadata": {},
   "outputs": [],
   "source": [
    "gene_dict = {}\n",
    "res_l = []\n",
    "i=0\n",
    "for x in df_l:\n",
    "    padj_n = [y for y in x.columns if \"padj\" in y]\n",
    "    FC_n = [z for z in x.columns if \"log2FoldChange\" in z]\n",
    "    gene_dict.update({\"padj_\" + str(padj_th) + \"FC_h_\" + str(FC_th) + \"_\" + \n",
    "                      labels[i]: x.loc[((x[padj_n[0]]<padj_th) & (x[FC_n[0]]>log2FC_th)),'Unnamed: 0'].tolist()}) #must be >\n",
    "    i = i+1"
   ]
  },
  {
   "cell_type": "code",
   "execution_count": 134,
   "metadata": {
    "scrolled": true
   },
   "outputs": [
    {
     "data": {
      "text/plain": [
       "dict_keys(['padj_0.05FC_h_2_TCvsB6_r2_Tfh', 'padj_0.05FC_h_2_Tn_B6vsTC_r2'])"
      ]
     },
     "execution_count": 134,
     "metadata": {},
     "output_type": "execute_result"
    }
   ],
   "source": [
    "gene_dict.keys()"
   ]
  },
  {
   "cell_type": "code",
   "execution_count": 135,
   "metadata": {},
   "outputs": [],
   "source": [
    "[str(k) + \"  \" +str(len(v)) for k,v in gene_dict.items()]\n",
    "\n",
    "s = \"\"\n",
    "for k,v in gene_dict.items():\n",
    "        s +=  k + \"\\t\"\n",
    "        s += (\"\\t\").join(v) + \"\\n\"        \n",
    "\n",
    "out = open('gene_lists_' + \"padj_\" + str(padj_th) + \"FC_h_\" + str(FC_th) + \"_\" + key + '.txt', 'w')\n",
    "out.write(s)\n",
    "out.close()"
   ]
  },
  {
   "cell_type": "code",
   "execution_count": 136,
   "metadata": {
    "scrolled": true
   },
   "outputs": [
    {
     "data": {
      "image/png": "[encoded data removed]",
      "text/plain": [
       "<Figure size 432x288 with 1 Axes>"
      ]
     },
     "metadata": {},
     "output_type": "display_data"
    }
   ],
   "source": [
    "#Looking only in spleen\n",
    "f = plt.figure()\n",
    "\n",
    "venn2([set(gene_dict[list(gene_dict.keys())[0]]),\n",
    "       set(gene_dict[list(gene_dict.keys())[1]])], #set(gene_dict[list(gene_dict.keys())[3]])\n",
    "      set_labels = contrasts)\n",
    "\n",
    "plt.title('Comparison_of' + \"padj_\" + str(padj_th) + \"FC_h_\" + str(FC_th) + \"_\" + key +': \\n')\n",
    "plt.show()\n",
    "\n",
    "f.savefig('Comparison_of' + \"padj_\" + str(padj_th) + \"FC_h_\" + str(FC_th) + \"_\" + key + '.pdf', bbox_inches='tight')"
   ]
  },
  {
   "cell_type": "markdown",
   "metadata": {},
   "source": [
    "-------"
   ]
  },
  {
   "cell_type": "markdown",
   "metadata": {},
   "source": [
    "#### log2FC < -0.584962501 (FC < 1.5); padj < 0.05; "
   ]
  },
  {
   "cell_type": "code",
   "execution_count": 137,
   "metadata": {},
   "outputs": [],
   "source": [
    "#parameter need to change\n",
    "key= \"TCvsB6_Tfh&Tn\"\n",
    "contrasts = [\"TC v.s. B6 (Tfh)\", \"TC v.s. B6 (Tn)\"] #may look up the gene_dict.keys() later\n",
    "padj_th = 0.05 # 0.05 or 0.1\n",
    "FC_th = 2 #1 or 1.5 or 2"
   ]
  },
  {
   "cell_type": "code",
   "execution_count": 138,
   "metadata": {},
   "outputs": [
    {
     "data": {
      "text/plain": [
       "-1.0"
      ]
     },
     "execution_count": 138,
     "metadata": {},
     "output_type": "execute_result"
    }
   ],
   "source": [
    "direction = -1\n",
    "\n",
    "log2FC_th = math.log(FC_th,2)*direction;log2FC_th"
   ]
  },
  {
   "cell_type": "code",
   "execution_count": 139,
   "metadata": {},
   "outputs": [],
   "source": [
    "gene_dict = {}\n",
    "res_l = []\n",
    "i=0\n",
    "for x in df_l:\n",
    "    padj_n = [y for y in x.columns if \"padj\" in y]\n",
    "    FC_n = [z for z in x.columns if \"log2FoldChange\" in z]\n",
    "    gene_dict.update({\"padj_\" + str(padj_th) + \"FC_l_\" + str(FC_th) + \"_\" + \n",
    "                      labels[i]: x.loc[((x[padj_n[0]]<padj_th) & (x[FC_n[0]]<log2FC_th)),'Unnamed: 0'].tolist()})\n",
    "    i = i+1"
   ]
  },
  {
   "cell_type": "code",
   "execution_count": 140,
   "metadata": {
    "scrolled": true
   },
   "outputs": [
    {
     "data": {
      "text/plain": [
       "dict_keys(['padj_0.05FC_l_2_TCvsB6_r2_Tfh', 'padj_0.05FC_l_2_Tn_B6vsTC_r2'])"
      ]
     },
     "execution_count": 140,
     "metadata": {},
     "output_type": "execute_result"
    }
   ],
   "source": [
    "gene_dict.keys()"
   ]
  },
  {
   "cell_type": "code",
   "execution_count": 141,
   "metadata": {},
   "outputs": [],
   "source": [
    "[str(k) + \"  \" +str(len(v)) for k,v in gene_dict.items()]\n",
    "\n",
    "s = \"\"\n",
    "for k,v in gene_dict.items():\n",
    "        s +=  k + \"\\t\"\n",
    "        s += (\"\\t\").join(v) + \"\\n\"        \n",
    "\n",
    "out = open('gene_lists_' + \"padj_\" + str(padj_th) + \"FC_l_\" + str(FC_th) + \"_\" + key + '.txt', 'w')\n",
    "out.write(s)\n",
    "out.close()"
   ]
  },
  {
   "cell_type": "code",
   "execution_count": 142,
   "metadata": {
    "scrolled": false
   },
   "outputs": [
    {
     "data": {
      "image/png": "[encoded data removed]",
      "text/plain": [
       "<Figure size 432x288 with 1 Axes>"
      ]
     },
     "metadata": {},
     "output_type": "display_data"
    }
   ],
   "source": [
    "#Looking only in spleen\n",
    "f = plt.figure()\n",
    "\n",
    "venn2([set(gene_dict[list(gene_dict.keys())[0]]),\n",
    "       set(gene_dict[list(gene_dict.keys())[1]])], #set(gene_dict[list(gene_dict.keys())[3]])\n",
    "      set_labels = contrasts)\n",
    "\n",
    "plt.title('Comparison_of' + \"padj_\" + str(padj_th) + \"FC_l_\" + str(FC_th) + \"_\" + key +': \\n')\n",
    "plt.show()\n",
    "\n",
    "f.savefig('Comparison_of' + \"padj_\" + str(padj_th) + \"FC_l_\" + str(FC_th) + \"_\" + key + '.pdf', bbox_inches='tight')"
   ]
  },
  {
   "cell_type": "markdown",
   "metadata": {},
   "source": [
    "-------"
   ]
  },
  {
   "cell_type": "markdown",
   "metadata": {},
   "source": [
    "----------"
   ]
  },
  {
   "cell_type": "markdown",
   "metadata": {},
   "source": [
    "-----------"
   ]
  },
  {
   "cell_type": "markdown",
   "metadata": {},
   "source": [
    "------------"
   ]
  }
 ],
 "metadata": {
  "kernelspec": {
   "display_name": "Python 3",
   "language": "python",
   "name": "python3"
  },
  "language_info": {
   "codemirror_mode": {
    "name": "ipython",
    "version": 3
   },
   "file_extension": ".py",
   "mimetype": "text/x-python",
   "name": "python",
   "nbconvert_exporter": "python",
   "pygments_lexer": "ipython3",
   "version": "3.8.5"
  }
 },
 "nbformat": 4,
 "nbformat_minor": 2
}
