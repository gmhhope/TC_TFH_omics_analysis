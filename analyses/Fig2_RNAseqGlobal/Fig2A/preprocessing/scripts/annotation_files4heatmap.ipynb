{
 "cells": [
  {
   "cell_type": "code",
   "execution_count": 103,
   "metadata": {},
   "outputs": [],
   "source": [
    "import pandas as pd\n",
    "import numpy as np"
   ]
  },
  {
   "cell_type": "code",
   "execution_count": 104,
   "metadata": {},
   "outputs": [],
   "source": [
    "df = pd.read_csv(\"input/full_RNAseq_LRT_added_mean_added.csv\")"
   ]
  },
  {
   "cell_type": "code",
   "execution_count": 105,
   "metadata": {},
   "outputs": [],
   "source": [
    "gene_list_df = pd.read_csv(\"input/Tfh_specific_genes_Immunity2014_v2.csv\")"
   ]
  },
  {
   "cell_type": "code",
   "execution_count": 106,
   "metadata": {},
   "outputs": [],
   "source": [
    "gene_l = gene_list_df['X'].tolist()"
   ]
  },
  {
   "cell_type": "code",
   "execution_count": 107,
   "metadata": {},
   "outputs": [],
   "source": [
    "new_l = []\n",
    "for item in df['Unnamed: 0']:\n",
    "    if item in gene_l:\n",
    "        new_l.append(item)\n",
    "    else:\n",
    "        new_l.append(\"NA\")"
   ]
  },
  {
   "cell_type": "code",
   "execution_count": 108,
   "metadata": {},
   "outputs": [],
   "source": [
    "df['annot'] = new_l"
   ]
  },
  {
   "cell_type": "code",
   "execution_count": 109,
   "metadata": {},
   "outputs": [],
   "source": [
    "df.to_csv(\"input/full_RNAseq_LRT_added_mean_added_annot.csv\",index=False)"
   ]
  },
  {
   "cell_type": "markdown",
   "metadata": {},
   "source": [
    "-------------"
   ]
  },
  {
   "cell_type": "markdown",
   "metadata": {},
   "source": [
    "# anootate pathway\n",
    "* mitochondria"
   ]
  },
  {
   "cell_type": "code",
   "execution_count": 110,
   "metadata": {},
   "outputs": [],
   "source": [
    "import pandas as pd"
   ]
  },
  {
   "cell_type": "code",
   "execution_count": 111,
   "metadata": {},
   "outputs": [],
   "source": [
    "oxphos_gl = pd.read_csv(\"input/gl_KEGG_OXIDATIVE_PHOSPHORYLATION_4HTprep.csv\")\n",
    "TCA_gl = pd.read_csv(\"input/gl_KEGG_CITRATE_CYCLE_TCA_CYCLE_4HTprep.csv\")\n",
    "ribosome_gl = pd.read_csv(\"input/gl_KEGG_RIBOSOME_HT4R.csv\")"
   ]
  },
  {
   "cell_type": "code",
   "execution_count": 112,
   "metadata": {},
   "outputs": [],
   "source": [
    "oxphos_gl['metabolism'] = 'OXPHOS'\n",
    "TCA_gl['metabolism'] = 'TCA_cycle'\n",
    "ribosome_gl['metabolism'] = 'Ribosome'"
   ]
  },
  {
   "cell_type": "code",
   "execution_count": 113,
   "metadata": {},
   "outputs": [],
   "source": [
    "gl_df = pd.concat([oxphos_gl,TCA_gl,ribosome_gl],axis =0)"
   ]
  },
  {
   "cell_type": "code",
   "execution_count": 114,
   "metadata": {},
   "outputs": [
    {
     "data": {
      "text/plain": [
       "(205, 2)"
      ]
     },
     "execution_count": 114,
     "metadata": {},
     "output_type": "execute_result"
    }
   ],
   "source": [
    "gl_df.shape"
   ]
  },
  {
   "cell_type": "code",
   "execution_count": 115,
   "metadata": {},
   "outputs": [],
   "source": [
    "a_list = gl_df['mouseSymbol'].tolist()"
   ]
  },
  {
   "cell_type": "code",
   "execution_count": 116,
   "metadata": {},
   "outputs": [],
   "source": [
    "duplicate_gl = []\n",
    "for item in a_list:\n",
    "    if a_list.count(item) > 1:\n",
    "        duplicate_gl.append(item)"
   ]
  },
  {
   "cell_type": "code",
   "execution_count": 117,
   "metadata": {},
   "outputs": [],
   "source": [
    "uni_gl = [x for x in set(gl_df['mouseSymbol']) if x not in duplicate_gl]"
   ]
  },
  {
   "cell_type": "code",
   "execution_count": 118,
   "metadata": {},
   "outputs": [],
   "source": [
    "uni_df = gl_df.loc[gl_df['mouseSymbol'].isin(uni_gl),:]"
   ]
  },
  {
   "cell_type": "code",
   "execution_count": 119,
   "metadata": {},
   "outputs": [],
   "source": [
    "duplicate_gl = list(set(duplicate_gl))"
   ]
  },
  {
   "cell_type": "code",
   "execution_count": 120,
   "metadata": {},
   "outputs": [],
   "source": [
    "dup_df_cor = pd.DataFrame({\"mouseSymbol\": duplicate_gl, \"metabolism\": [\"OXPHOS\"]*len(duplicate_gl)})"
   ]
  },
  {
   "cell_type": "code",
   "execution_count": 121,
   "metadata": {},
   "outputs": [],
   "source": [
    "df_met_annot = pd.concat([uni_df,dup_df_cor],axis=0)"
   ]
  },
  {
   "cell_type": "code",
   "execution_count": 122,
   "metadata": {},
   "outputs": [
    {
     "data": {
      "text/plain": [
       "201"
      ]
     },
     "execution_count": 122,
     "metadata": {},
     "output_type": "execute_result"
    }
   ],
   "source": [
    "len(set(df_met_annot['mouseSymbol']))"
   ]
  },
  {
   "cell_type": "code",
   "execution_count": 123,
   "metadata": {},
   "outputs": [
    {
     "data": {
      "text/plain": [
       "Index(['Unnamed: 0', 'B6_Tfh_mean', 'B6_Tn_mean', 'TC_Tfh_mean', 'TC_Tn_mean',\n",
       "       'B6.1.Tfh', 'B6.2.Tfh', 'B6.3.Tfh', 'B6.4.Tfh', 'B6.1.Tn', 'B6.2.Tn',\n",
       "       'B6.3.Tn', 'B6.4.Tn', 'TC1.Tfh', 'TC2.Tfh', 'TC4.Tfh', 'TC1.Tn',\n",
       "       'TC2.Tn', 'TC4.Tn', 'log2FoldChange_TCTfhvsTCTn', 'stat_TCTfhvsTCTn',\n",
       "       'pvalue_TCTfhvsTCTn', 'padj_TCTfhvsTCTn', 'log2FoldChange_B6TfhvsB6Tn',\n",
       "       'stat_B6TfhvsB6Tn', 'pvalue_B6TfhvsB6Tn', 'padj_B6TfhvsB6Tn',\n",
       "       'log2FoldChange_interaction', 'stat_interaction', 'pvalue_interaction',\n",
       "       'padj_interaction', 'log2FoldChange_TCTfhvsB6Tfh', 'stat_TCTfhvsB6Tfh',\n",
       "       'pvalue_TCTfhvsB6Tfh', 'padj_TCTfhvsB6Tfh', 'log2FoldChange_TCTnvsB6Tn',\n",
       "       'stat_TCTnvsB6Tn', 'pvalue_TCTnvsB6Tn', 'padj_TCTnvsB6Tn',\n",
       "       'log2FoldChange_LRT', 'stat_LRT', 'pvalue_LRT', 'padj_LRT', 'annot'],\n",
       "      dtype='object')"
      ]
     },
     "execution_count": 123,
     "metadata": {},
     "output_type": "execute_result"
    }
   ],
   "source": [
    "df.columns"
   ]
  },
  {
   "cell_type": "code",
   "execution_count": 124,
   "metadata": {},
   "outputs": [],
   "source": [
    "df2 = pd.merge(df,df_met_annot,left_on = \"Unnamed: 0\",right_on = \"mouseSymbol\",how = \"left\")"
   ]
  },
  {
   "cell_type": "markdown",
   "metadata": {},
   "source": [
    "# annotate statistics\n",
    "* co-up general \n",
    "* co-up FC1.5\n",
    "* co-down general\n",
    "* co-down FC1.5"
   ]
  },
  {
   "cell_type": "code",
   "execution_count": 125,
   "metadata": {},
   "outputs": [],
   "source": [
    "df2['stat_annot'] = np.nan"
   ]
  },
  {
   "cell_type": "code",
   "execution_count": 126,
   "metadata": {},
   "outputs": [],
   "source": [
    "df2.loc[(df2['padj_TCTnvsB6Tn'] < 0.05)\n",
    "        & (df2['padj_TCTfhvsB6Tfh'] < 0.05)\n",
    "        & (df2['log2FoldChange_TCTfhvsB6Tfh'] > 0) \n",
    "        & (df2['log2FoldChange_TCTnvsB6Tn'] > 0),\"stat_annot\"] = \"co_high_FC0\""
   ]
  },
  {
   "cell_type": "code",
   "execution_count": 127,
   "metadata": {},
   "outputs": [],
   "source": [
    "df2.loc[(df2['padj_TCTnvsB6Tn'] < 0.05)\n",
    "        & (df2['padj_TCTfhvsB6Tfh'] < 0.05)\n",
    "        & (df2['log2FoldChange_TCTfhvsB6Tfh'] < 0) \n",
    "        & (df2['log2FoldChange_TCTnvsB6Tn'] < 0),\"stat_annot\"] = \"co_low_FC0\""
   ]
  },
  {
   "cell_type": "code",
   "execution_count": 128,
   "metadata": {},
   "outputs": [],
   "source": [
    "df2.loc[(df2['padj_TCTnvsB6Tn'] < 0.05)\n",
    "        & (df2['padj_TCTfhvsB6Tfh'] < 0.05)\n",
    "        & (df2['log2FoldChange_TCTfhvsB6Tfh'] > 0.5850) \n",
    "        & (df2['log2FoldChange_TCTnvsB6Tn'] > 0.5850),\"stat_annot\"] = \"co_high_FC1.5\""
   ]
  },
  {
   "cell_type": "code",
   "execution_count": 129,
   "metadata": {},
   "outputs": [],
   "source": [
    "df2.loc[(df2['padj_TCTnvsB6Tn'] < 0.05)\n",
    "        & (df2['padj_TCTfhvsB6Tfh'] < 0.05)\n",
    "        & (df2['log2FoldChange_TCTfhvsB6Tfh'] < -0.5850) \n",
    "        & (df2['log2FoldChange_TCTnvsB6Tn'] < -0.5850),\"stat_annot\"] = \"co_low_FC1.5\""
   ]
  },
  {
   "cell_type": "markdown",
   "metadata": {},
   "source": [
    "--------"
   ]
  },
  {
   "cell_type": "markdown",
   "metadata": {},
   "source": [
    "# Add interaction term"
   ]
  },
  {
   "cell_type": "code",
   "execution_count": 130,
   "metadata": {
    "scrolled": true
   },
   "outputs": [
    {
     "data": {
      "text/plain": [
       "Index(['Unnamed: 0', 'B6_Tfh_mean', 'B6_Tn_mean', 'TC_Tfh_mean', 'TC_Tn_mean',\n",
       "       'B6.1.Tfh', 'B6.2.Tfh', 'B6.3.Tfh', 'B6.4.Tfh', 'B6.1.Tn', 'B6.2.Tn',\n",
       "       'B6.3.Tn', 'B6.4.Tn', 'TC1.Tfh', 'TC2.Tfh', 'TC4.Tfh', 'TC1.Tn',\n",
       "       'TC2.Tn', 'TC4.Tn', 'log2FoldChange_TCTfhvsTCTn', 'stat_TCTfhvsTCTn',\n",
       "       'pvalue_TCTfhvsTCTn', 'padj_TCTfhvsTCTn', 'log2FoldChange_B6TfhvsB6Tn',\n",
       "       'stat_B6TfhvsB6Tn', 'pvalue_B6TfhvsB6Tn', 'padj_B6TfhvsB6Tn',\n",
       "       'log2FoldChange_interaction', 'stat_interaction', 'pvalue_interaction',\n",
       "       'padj_interaction', 'log2FoldChange_TCTfhvsB6Tfh', 'stat_TCTfhvsB6Tfh',\n",
       "       'pvalue_TCTfhvsB6Tfh', 'padj_TCTfhvsB6Tfh', 'log2FoldChange_TCTnvsB6Tn',\n",
       "       'stat_TCTnvsB6Tn', 'pvalue_TCTnvsB6Tn', 'padj_TCTnvsB6Tn',\n",
       "       'log2FoldChange_LRT', 'stat_LRT', 'pvalue_LRT', 'padj_LRT', 'annot',\n",
       "       'mouseSymbol', 'metabolism', 'stat_annot'],\n",
       "      dtype='object')"
      ]
     },
     "execution_count": 130,
     "metadata": {},
     "output_type": "execute_result"
    }
   ],
   "source": [
    "df2.columns"
   ]
  },
  {
   "cell_type": "code",
   "execution_count": 137,
   "metadata": {},
   "outputs": [],
   "source": [
    "df2['stat_interaction'] = np.nan\n",
    "df2.loc[((df2['padj_interaction'] < 0.05) & (df2[\"stat_annot\"] == \"co_high_FC1.5\"))|\n",
    "        ((df2['padj_interaction'] < 0.05) & (df2[\"stat_annot\"] == \"co_low_FC1.5\")), \"stat_interaction\"] = \"same_dir\"\n",
    "\n",
    "df2.loc[((df2['padj_interaction'] < 0.05) & (df2[\"stat_annot\"] == \"co_high_FC0\"))|\n",
    "        ((df2['padj_interaction'] < 0.05) & (df2[\"stat_annot\"] ==  \"co_low_FC0\")), \"stat_interaction\"] = \"semi_same_dir\"\n",
    "\n",
    "df2.loc[((df2['padj_interaction'] < 0.05)  & \n",
    "        (df2['padj_TCTfhvsTCTn'] < 0.05) & \n",
    "        (df2['padj_B6TfhvsB6Tn'] < 0.05) & \n",
    "        (df2['log2FoldChange_TCTfhvsTCTn'] > 0) &\n",
    "        (df2['log2FoldChange_B6TfhvsB6Tn'] < 0))|\n",
    "        \n",
    "        ((df2['padj_interaction'] < 0.05)  & \n",
    "        (df2['padj_TCTfhvsTCTn'] < 0.05) & \n",
    "        (df2['padj_B6TfhvsB6Tn'] < 0.05) & \n",
    "        (df2['log2FoldChange_TCTfhvsTCTn'] < 0) &\n",
    "        (df2['log2FoldChange_B6TfhvsB6Tn'] > 0)) ,\"stat_interaction\"] = \"diff_dir\"\n"
   ]
  },
  {
   "cell_type": "code",
   "execution_count": 138,
   "metadata": {},
   "outputs": [],
   "source": [
    "df2.to_csv(\"input/full_RNAseq_LRT_added_mean_added_annot_meta_stat_v3.csv\",index=False)"
   ]
  }
 ],
 "metadata": {
  "kernelspec": {
   "display_name": "Python 3",
   "language": "python",
   "name": "python3"
  },
  "language_info": {
   "codemirror_mode": {
    "name": "ipython",
    "version": 3
   },
   "file_extension": ".py",
   "mimetype": "text/x-python",
   "name": "python",
   "nbconvert_exporter": "python",
   "pygments_lexer": "ipython3",
   "version": "3.8.5"
  }
 },
 "nbformat": 4,
 "nbformat_minor": 2
}
