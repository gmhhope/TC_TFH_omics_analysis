{
 "cells": [
  {
   "cell_type": "code",
   "execution_count": 1,
   "metadata": {},
   "outputs": [],
   "source": [
    "import pandas as pd\n",
    "import os"
   ]
  },
  {
   "cell_type": "code",
   "execution_count": 2,
   "metadata": {},
   "outputs": [],
   "source": [
    "ful_df = pd.read_csv(\"./input/full_RNAseq_LRT_added.csv\")"
   ]
  },
  {
   "cell_type": "code",
   "execution_count": 5,
   "metadata": {},
   "outputs": [
    {
     "data": {
      "text/plain": [
       "Index(['Unnamed: 0', 'B6.1.Tfh', 'B6.2.Tfh', 'B6.3.Tfh', 'B6.4.Tfh', 'B6.1.Tn',\n",
       "       'B6.2.Tn', 'B6.3.Tn', 'B6.4.Tn', 'TC1.Tfh', 'TC2.Tfh', 'TC4.Tfh',\n",
       "       'TC1.Tn', 'TC2.Tn', 'TC4.Tn'],\n",
       "      dtype='object')"
      ]
     },
     "execution_count": 5,
     "metadata": {},
     "output_type": "execute_result"
    }
   ],
   "source": [
    "ful_df.columns[0:15]"
   ]
  },
  {
   "cell_type": "code",
   "execution_count": 8,
   "metadata": {},
   "outputs": [],
   "source": [
    "ful_df_data = ful_df[ful_df.columns[0:15]]"
   ]
  },
  {
   "cell_type": "code",
   "execution_count": 16,
   "metadata": {},
   "outputs": [],
   "source": [
    "t_data_df = ful_df_data.transpose()"
   ]
  },
  {
   "cell_type": "code",
   "execution_count": 18,
   "metadata": {},
   "outputs": [],
   "source": [
    "t_data_df.columns = t_data_df.iloc[0,:]"
   ]
  },
  {
   "cell_type": "code",
   "execution_count": 47,
   "metadata": {},
   "outputs": [],
   "source": [
    "t_data_df2 = t_data_df.iloc[1:,:]"
   ]
  },
  {
   "cell_type": "code",
   "execution_count": 48,
   "metadata": {},
   "outputs": [],
   "source": [
    "meta_dict = {\"B6_Tfh\":int(4), \"B6_Tn\":int(4), \"TC_Tfh\":int(3), \"TC_Tn\":int(3)}    "
   ]
  },
  {
   "cell_type": "code",
   "execution_count": 49,
   "metadata": {},
   "outputs": [
    {
     "data": {
      "text/plain": [
       "{'B6_Tfh': 4, 'B6_Tn': 4, 'TC_Tfh': 3, 'TC_Tn': 3}"
      ]
     },
     "execution_count": 49,
     "metadata": {},
     "output_type": "execute_result"
    }
   ],
   "source": [
    "meta_dict"
   ]
  },
  {
   "cell_type": "code",
   "execution_count": 51,
   "metadata": {},
   "outputs": [],
   "source": [
    "i=0\n",
    "mean_l = []\n",
    "for k,v in meta_dict.items():\n",
    "    mean_l.append(t_data_df2.iloc[i:i+v,:].mean().tolist())\n",
    "    i = i+v"
   ]
  },
  {
   "cell_type": "code",
   "execution_count": 78,
   "metadata": {},
   "outputs": [],
   "source": [
    "new_col_l = [x + \"_mean\" for x in meta_dict.keys()]"
   ]
  },
  {
   "cell_type": "code",
   "execution_count": 79,
   "metadata": {},
   "outputs": [],
   "source": [
    "mean_df = pd.DataFrame(mean_l).transpose()"
   ]
  },
  {
   "cell_type": "code",
   "execution_count": 80,
   "metadata": {},
   "outputs": [],
   "source": [
    "mean_df.columns = new_col_l"
   ]
  },
  {
   "cell_type": "code",
   "execution_count": 82,
   "metadata": {},
   "outputs": [],
   "source": [
    "ful_df2 = pd.concat([ful_df,mean_df],axis=1)"
   ]
  },
  {
   "cell_type": "code",
   "execution_count": 87,
   "metadata": {},
   "outputs": [
    {
     "data": {
      "text/plain": [
       "['B6_Tfh_mean', 'B6_Tn_mean', 'TC_Tfh_mean', 'TC_Tn_mean']"
      ]
     },
     "execution_count": 87,
     "metadata": {},
     "output_type": "execute_result"
    }
   ],
   "source": []
  },
  {
   "cell_type": "code",
   "execution_count": 94,
   "metadata": {},
   "outputs": [
    {
     "data": {
      "text/plain": [
       "Index(['B6.1.Tfh', 'B6.2.Tfh', 'B6.3.Tfh', 'B6.4.Tfh', 'B6.1.Tn', 'B6.2.Tn',\n",
       "       'B6.3.Tn', 'B6.4.Tn', 'TC1.Tfh', 'TC2.Tfh', 'TC4.Tfh', 'TC1.Tn',\n",
       "       'TC2.Tn', 'TC4.Tn', 'log2FoldChange_TCTfhvsTCTn', 'stat_TCTfhvsTCTn',\n",
       "       'pvalue_TCTfhvsTCTn', 'padj_TCTfhvsTCTn', 'log2FoldChange_B6TfhvsB6Tn',\n",
       "       'stat_B6TfhvsB6Tn', 'pvalue_B6TfhvsB6Tn', 'padj_B6TfhvsB6Tn',\n",
       "       'log2FoldChange_interaction', 'stat_interaction', 'pvalue_interaction',\n",
       "       'padj_interaction', 'log2FoldChange_TCTfhvsB6Tfh', 'stat_TCTfhvsB6Tfh',\n",
       "       'pvalue_TCTfhvsB6Tfh', 'padj_TCTfhvsB6Tfh', 'log2FoldChange_TCTnvsB6Tn',\n",
       "       'stat_TCTnvsB6Tn', 'pvalue_TCTnvsB6Tn', 'padj_TCTnvsB6Tn',\n",
       "       'log2FoldChange_LRT', 'stat_LRT', 'pvalue_LRT', 'padj_LRT'],\n",
       "      dtype='object')"
      ]
     },
     "execution_count": 94,
     "metadata": {},
     "output_type": "execute_result"
    }
   ],
   "source": [
    "ful_df2.columns[1:ful_df2.shape[1]-4]"
   ]
  },
  {
   "cell_type": "code",
   "execution_count": 95,
   "metadata": {},
   "outputs": [],
   "source": [
    "new_col = [ful_df2.columns[0]] + [x for x in ful_df2.columns if \"mean\" in x] + ful_df2.columns[1:ful_df2.shape[1]-4].tolist()"
   ]
  },
  {
   "cell_type": "code",
   "execution_count": 96,
   "metadata": {},
   "outputs": [],
   "source": [
    "ful_df3 = ful_df2[new_col]"
   ]
  },
  {
   "cell_type": "code",
   "execution_count": 97,
   "metadata": {},
   "outputs": [],
   "source": [
    "ful_df3.to_csv(\"./output/full_RNAseq_LRT_added_mean_added.csv\", index=False)"
   ]
  }
 ],
 "metadata": {
  "kernelspec": {
   "display_name": "Python 3",
   "language": "python",
   "name": "python3"
  },
  "language_info": {
   "codemirror_mode": {
    "name": "ipython",
    "version": 3
   },
   "file_extension": ".py",
   "mimetype": "text/x-python",
   "name": "python",
   "nbconvert_exporter": "python",
   "pygments_lexer": "ipython3",
   "version": "3.8.5"
  }
 },
 "nbformat": 4,
 "nbformat_minor": 2
}
