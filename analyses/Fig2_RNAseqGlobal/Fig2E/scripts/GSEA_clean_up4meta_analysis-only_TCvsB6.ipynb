{
 "cells": [
  {
   "cell_type": "markdown",
   "metadata": {},
   "source": [
    "# GSEA cleanup for Tfh_TCvsB6 & Tn_TCvsB6 comparison"
   ]
  },
  {
   "cell_type": "markdown",
   "metadata": {},
   "source": [
    "#### selection based on relevance and significancy and remove redundancy"
   ]
  },
  {
   "cell_type": "code",
   "execution_count": 6,
   "metadata": {},
   "outputs": [],
   "source": [
    "import pandas as pd\n",
    "import os\n",
    "\n",
    "gset_l = [x for x in os.listdir(\"./\") if \"gset_report_merged\" in x]"
   ]
  },
  {
   "cell_type": "code",
   "execution_count": 7,
   "metadata": {
    "scrolled": true
   },
   "outputs": [
    {
     "data": {
      "text/plain": [
       "['gset_report_merged_Tfh_TCvsB6.csv', 'gset_report_merged_Tn_TCvsB6.csv']"
      ]
     },
     "execution_count": 7,
     "metadata": {},
     "output_type": "execute_result"
    }
   ],
   "source": [
    "gset_l"
   ]
  },
  {
   "cell_type": "code",
   "execution_count": 8,
   "metadata": {},
   "outputs": [],
   "source": [
    "select = [\"GO_HISTONE_METHYLATION\",\n",
    "         \"GO_REGULATION_OF_RNA_SPLICING\",\n",
    "         \"GO_INTRACELLULAR_ESTROGEN_RECEPTOR_SIGNALING_PATHWAY\",\n",
    "         \"GO_HISTONE_H3_K9_METHYLATION\",\n",
    "         \"GO_INOSITOL_PHOSPHATE_BIOSYNTHETIC_PROCESS\",\n",
    "          \"GO_HISTONE_H3_K4_METHYLATION\",\n",
    "         \"GO_PEPTIDYL_LYSINE_TRIMETHYLATION\",\n",
    "         \"GO_REGULATION_OF_RNA_METABOLIC_PROCESS\",\n",
    "         \"GO_REGULATION_OF_SUPEROXIDE_METABOLIC_PROCESS\",\n",
    "         \"GO_DETOXIFICATION\",\n",
    "         \"GO_PYRUVATE_METABOLIC_PROCESS\",\n",
    "         \"GO_REACTIVE_OXYGEN_SPECIES_METABOLIC_PROCESS\",\n",
    "         \"GO_TRICARBOXYLIC_ACID_CYCLE\",\n",
    "         \"GO_POSITIVE_REGULATION_OF_CANONICAL_WNT_SIGNALING_PATHWAY\",\n",
    "         \"GO_CELLULAR_AMINO_ACID_METABOLIC_PROCESS\",\n",
    "         \"GO_MITOCHONDRIAL_TRANSPORT\",\n",
    "         \"GO_CELL_REDOX_HOMEOSTASIS\",\n",
    "         \"GO_SULFUR_COMPOUND_CATABOLIC_PROCESS\",\n",
    "         \"GO_PURINE_CONTAINING_COMPOUND_BIOSYNTHETIC_PROCESS\",\n",
    "         \"GO_MITOCHONDRIAL_TRANSLATION\",\n",
    "         \"GO_CELLULAR_KETONE_METABOLIC_PROCESS\",\n",
    "         \"GO_ATP_SYNTHESIS_COUPLED_ELECTRON_TRANSPORT\",\n",
    "         \"GO_OXIDATIVE_PHOSPHORYLATION\",\n",
    "         \"GO_COTRANSLATIONAL_PROTEIN_TARGETING_TO_MEMBRANE\",\n",
    "         \"GO_RIBOSOME_BIOGENESIS\",\n",
    "         \"GO_GLYCOSYL_COMPOUND_BIOSYNTHETIC_PROCESS\"]"
   ]
  },
  {
   "cell_type": "code",
   "execution_count": 9,
   "metadata": {},
   "outputs": [
    {
     "name": "stderr",
     "output_type": "stream",
     "text": [
      "/Users/minghaogong/anaconda3/lib/python3.6/site-packages/ipykernel_launcher.py:3: FutureWarning: Sorting because non-concatenation axis is not aligned. A future version\n",
      "of pandas will change to not sort by default.\n",
      "\n",
      "To accept the future behavior, pass 'sort=True'.\n",
      "\n",
      "To retain the current behavior and silence the warning, pass sort=False\n",
      "\n",
      "  This is separate from the ipykernel package so we can avoid doing imports until\n"
     ]
    }
   ],
   "source": [
    "df = pd.DataFrame()\n",
    "for file in gset_l:\n",
    "    df = pd.concat([df,pd.read_csv(file)],axis=0)   "
   ]
  },
  {
   "cell_type": "code",
   "execution_count": 10,
   "metadata": {},
   "outputs": [],
   "source": [
    "df_filt = df.loc[df['NAME'].isin(select),:]"
   ]
  },
  {
   "cell_type": "code",
   "execution_count": 11,
   "metadata": {},
   "outputs": [],
   "source": [
    "df_sort = df_filt.sort_values(by=['NES','group'], ascending=False)\n",
    "\n",
    "df_sort.to_csv(\"meta_df4bubble_diff_filtering_select.csv\")"
   ]
  }
 ],
 "metadata": {
  "kernelspec": {
   "display_name": "Python 3",
   "language": "python",
   "name": "python3"
  },
  "language_info": {
   "codemirror_mode": {
    "name": "ipython",
    "version": 3
   },
   "file_extension": ".py",
   "mimetype": "text/x-python",
   "name": "python",
   "nbconvert_exporter": "python",
   "pygments_lexer": "ipython3",
   "version": "3.8.5"
  }
 },
 "nbformat": 4,
 "nbformat_minor": 2
}
