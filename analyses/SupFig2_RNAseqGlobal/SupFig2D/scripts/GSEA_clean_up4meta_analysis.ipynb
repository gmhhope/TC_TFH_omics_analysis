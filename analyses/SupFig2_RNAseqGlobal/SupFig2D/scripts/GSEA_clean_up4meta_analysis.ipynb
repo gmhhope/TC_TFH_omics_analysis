{
 "cells": [
  {
   "cell_type": "code",
   "execution_count": 2,
   "metadata": {},
   "outputs": [],
   "source": [
    "#regular with equal FDR filtering\n",
    "import pandas as pd\n",
    "import os\n",
    "\n",
    "gset_l = [x for x in os.listdir(\"./\") if \"gset_report_merged\" in x]\n",
    "\n",
    "df = pd.DataFrame()\n",
    "for file in gset_l:\n",
    "    df = pd.concat([df,pd.read_csv(file)],axis=0)   \n",
    "\n",
    "df.columns\n",
    "\n",
    "df_filt = df.loc[df['FDR q-val']<0.25,:]\n",
    "\n",
    "df_filt.shape\n",
    "\n",
    "df_filt = df_filt.sort_values(by=['NES','group'], ascending=False)\n",
    "\n",
    "df_filt.to_csv(\"meta_df4bubble_padj0.25.csv\")"
   ]
  },
  {
   "cell_type": "markdown",
   "metadata": {},
   "source": [
    "----------"
   ]
  },
  {
   "cell_type": "code",
   "execution_count": 5,
   "metadata": {},
   "outputs": [],
   "source": [
    "#irregular with different FDR filtering\n",
    "gset_l = [x for x in os.listdir(\"./\") if \"gset_report_merged\" in x]"
   ]
  },
  {
   "cell_type": "code",
   "execution_count": 6,
   "metadata": {},
   "outputs": [
    {
     "data": {
      "text/plain": [
       "['gset_report_merged_Sp_Tfh.csv',\n",
       " 'gset_report_merged_Sp_Tn.csv',\n",
       " 'gset_report_merged_Tfh_TCvsTC_2DG_r2.csv',\n",
       " 'gset_report_merged_Tn_TCvsTC_2DG_r2.csv']"
      ]
     },
     "execution_count": 6,
     "metadata": {},
     "output_type": "execute_result"
    }
   ],
   "source": [
    "gset_l"
   ]
  },
  {
   "cell_type": "code",
   "execution_count": 7,
   "metadata": {},
   "outputs": [],
   "source": [
    "df = pd.DataFrame()\n",
    "for file in gset_l:\n",
    "    if \"2DG\" in file:\n",
    "        temp = pd.read_csv(file)\n",
    "        temp = temp.loc[temp['FDR q-val']<0.1,:]\n",
    "        df = pd.concat([df,temp],axis=0) \n",
    "    else: \n",
    "        temp = pd.read_csv(file)\n",
    "        temp.loc[temp['FDR q-val']<0.05,:]\n",
    "        df = pd.concat([df,temp],axis=0)"
   ]
  },
  {
   "cell_type": "code",
   "execution_count": 8,
   "metadata": {},
   "outputs": [],
   "source": [
    "df_sort = df.sort_values(by=['NES','group'], ascending=False)\n",
    "\n",
    "df_sort.to_csv(\"meta_df4bubble_diff_filtering_padj0.1_0.05.csv\")"
   ]
  },
  {
   "cell_type": "markdown",
   "metadata": {},
   "source": [
    "---------"
   ]
  },
  {
   "cell_type": "code",
   "execution_count": 14,
   "metadata": {},
   "outputs": [],
   "source": [
    "#selection"
   ]
  },
  {
   "cell_type": "code",
   "execution_count": 22,
   "metadata": {},
   "outputs": [],
   "source": [
    "import pandas as pd\n",
    "import os\n",
    "\n",
    "gset_l = [x for x in os.listdir(\"./\") if \"gset_report_merged\" in x]"
   ]
  },
  {
   "cell_type": "code",
   "execution_count": 23,
   "metadata": {
    "scrolled": true
   },
   "outputs": [
    {
     "data": {
      "text/plain": [
       "['gset_report_merged_Sp_Tfh.csv',\n",
       " 'gset_report_merged_Sp_Tn.csv',\n",
       " 'gset_report_merged_Tfh_TCvsTC_2DG_r2.csv',\n",
       " 'gset_report_merged_Tn_TCvsTC_2DG_r2.csv']"
      ]
     },
     "execution_count": 23,
     "metadata": {},
     "output_type": "execute_result"
    }
   ],
   "source": [
    "gset_l"
   ]
  },
  {
   "cell_type": "code",
   "execution_count": 24,
   "metadata": {},
   "outputs": [],
   "source": [
    "select = [\"KEGG_STEROID_BIOSYNTHESIS\",\n",
    "         \"KEGG_FATTY_ACID_METABOLISM\",\n",
    "         \"KEGG_OXIDATIVE_PHOSPHORYLATION\",\n",
    "         \"KEGG_CITRATE_CYCLE_TCA_CYCLE\",\n",
    "         \"KEGG_PYRUVATE_METABOLISM\",\n",
    "          \"KEGG_GLYCOLYSIS_GLUCONEOGENESIS\",\n",
    "         \"KEGG_RIBOSOME\",\"KEGG_PROPANOATE_METABOLISM\",\n",
    "         \"KEGG_PENTOSE_PHOSPHATE_PATHWAY\"]"
   ]
  },
  {
   "cell_type": "code",
   "execution_count": 25,
   "metadata": {},
   "outputs": [],
   "source": [
    "df = pd.DataFrame()\n",
    "for file in gset_l:\n",
    "    df = pd.concat([df,pd.read_csv(file)],axis=0)   "
   ]
  },
  {
   "cell_type": "code",
   "execution_count": 26,
   "metadata": {},
   "outputs": [],
   "source": [
    "df_filt = df.loc[df['NAME'].isin(select),:]"
   ]
  },
  {
   "cell_type": "code",
   "execution_count": 27,
   "metadata": {},
   "outputs": [],
   "source": [
    "df_sort = df_filt.sort_values(by=['NES','group'], ascending=False)\n",
    "\n",
    "df_sort.to_csv(\"meta_df4bubble_diff_filtering_select.csv\")"
   ]
  }
 ],
 "metadata": {
  "kernelspec": {
   "display_name": "Python 3",
   "language": "python",
   "name": "python3"
  },
  "language_info": {
   "codemirror_mode": {
    "name": "ipython",
    "version": 3
   },
   "file_extension": ".py",
   "mimetype": "text/x-python",
   "name": "python",
   "nbconvert_exporter": "python",
   "pygments_lexer": "ipython3",
   "version": "3.6.5"
  }
 },
 "nbformat": 4,
 "nbformat_minor": 2
}
