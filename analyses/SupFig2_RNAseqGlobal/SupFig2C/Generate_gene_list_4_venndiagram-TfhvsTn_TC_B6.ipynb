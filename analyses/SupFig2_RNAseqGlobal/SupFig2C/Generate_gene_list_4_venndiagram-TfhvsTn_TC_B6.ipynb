{
 "cells": [
  {
   "cell_type": "code",
   "execution_count": 1,
   "metadata": {},
   "outputs": [],
   "source": [
    "import pandas as pd\n",
    "import os \n",
    "import math"
   ]
  },
  {
   "cell_type": "code",
   "execution_count": 6,
   "metadata": {},
   "outputs": [],
   "source": [
    "path = \"/Volumes/LM_MG_drive_one/Morel_meta_analyses_transcriptomics/gene_overlap_analysis_01082020_TfhvsTn_TC_B6_noTC2DG/result_tab//\"\n",
    "list_files = os.listdir(path)"
   ]
  },
  {
   "cell_type": "code",
   "execution_count": 7,
   "metadata": {},
   "outputs": [
    {
     "data": {
      "text/plain": [
       "['.DS_Store',\n",
       " 'result_TC_TfhvsTn.csv',\n",
       " 'result_Tfh_vs_Tn_B6.csv',\n",
       " 'result_Tfh_vs_Tn_TC2DG.csv']"
      ]
     },
     "execution_count": 7,
     "metadata": {},
     "output_type": "execute_result"
    }
   ],
   "source": [
    "list_files"
   ]
  },
  {
   "cell_type": "code",
   "execution_count": 8,
   "metadata": {},
   "outputs": [],
   "source": [
    "csv_files = [x for x in list_files if \".csv\" in x and \".ipynb\" and \"merged\" not in x and \"2DG\" not in x]"
   ]
  },
  {
   "cell_type": "code",
   "execution_count": 9,
   "metadata": {
    "scrolled": false
   },
   "outputs": [
    {
     "data": {
      "text/plain": [
       "['result_TC_TfhvsTn.csv', 'result_Tfh_vs_Tn_B6.csv']"
      ]
     },
     "execution_count": 9,
     "metadata": {},
     "output_type": "execute_result"
    }
   ],
   "source": [
    "csv_files"
   ]
  },
  {
   "cell_type": "code",
   "execution_count": 10,
   "metadata": {
    "scrolled": true
   },
   "outputs": [
    {
     "data": {
      "text/plain": [
       "['TC_TfhvsTn', 'Tfh_vs_Tn_B6']"
      ]
     },
     "execution_count": 10,
     "metadata": {},
     "output_type": "execute_result"
    }
   ],
   "source": [
    "labels = [x.split(\".\")[0].replace(\"result_\",\"\") for x in csv_files]\n",
    "labels"
   ]
  },
  {
   "cell_type": "code",
   "execution_count": 12,
   "metadata": {},
   "outputs": [],
   "source": [
    "df_l = []\n",
    "i = 0\n",
    "for item in csv_files:\n",
    "    temp = pd.read_csv(path + item)\n",
    "    temp.columns = ['Unnamed: 0'] + [labels[i] + \"_\" + x for x in temp.columns[1:]] \n",
    "    i+=1\n",
    "    df_l.append(temp)"
   ]
  },
  {
   "cell_type": "code",
   "execution_count": 13,
   "metadata": {
    "scrolled": true
   },
   "outputs": [
    {
     "data": {
      "text/plain": [
       "[Index(['Unnamed: 0', 'TC_TfhvsTn_baseMean', 'TC_TfhvsTn_log2FoldChange',\n",
       "        'TC_TfhvsTn_lfcSE', 'TC_TfhvsTn_stat'],\n",
       "       dtype='object'),\n",
       " Index(['Unnamed: 0', 'Tfh_vs_Tn_B6_baseMean', 'Tfh_vs_Tn_B6_log2FoldChange',\n",
       "        'Tfh_vs_Tn_B6_lfcSE', 'Tfh_vs_Tn_B6_stat'],\n",
       "       dtype='object')]"
      ]
     },
     "execution_count": 13,
     "metadata": {},
     "output_type": "execute_result"
    }
   ],
   "source": [
    "[x.columns[0:5] for x in df_l]"
   ]
  },
  {
   "cell_type": "code",
   "execution_count": 14,
   "metadata": {},
   "outputs": [],
   "source": [
    "m_df = pd.DataFrame()\n",
    "for x in df_l:\n",
    "    if m_df.shape[0] ==0:\n",
    "        m_df = x\n",
    "    else:\n",
    "        m_df = pd.merge(m_df,x,on ='Unnamed: 0')"
   ]
  },
  {
   "cell_type": "code",
   "execution_count": 15,
   "metadata": {},
   "outputs": [],
   "source": [
    "m_df.to_csv(\"merged_res_df_no2DG.csv\",index=False)"
   ]
  },
  {
   "cell_type": "code",
   "execution_count": 17,
   "metadata": {},
   "outputs": [],
   "source": [
    "from matplotlib_venn import venn2, venn2_circles\n",
    "import matplotlib.pyplot as plt"
   ]
  },
  {
   "cell_type": "markdown",
   "metadata": {},
   "source": [
    "#### 1st 2 gene list"
   ]
  },
  {
   "cell_type": "markdown",
   "metadata": {},
   "source": [
    "log2FC > 0.584962501; padj < 0.05; "
   ]
  },
  {
   "cell_type": "code",
   "execution_count": 18,
   "metadata": {},
   "outputs": [
    {
     "data": {
      "image/png": "[encoded data removed]",
      "text/plain": [
       "<Figure size 432x288 with 1 Axes>"
      ]
     },
     "metadata": {},
     "output_type": "display_data"
    }
   ],
   "source": [
    "#parameter need to change\n",
    "key= \"TfhvsTn_TC_B6\"\n",
    "contrasts = [\"TfhvsTn (TC)\", \"TfhvsTn (B6)\"] #may look up the gene_dict.keys() later\n",
    "padj_th = 0.05 # 0.05 or 0.1\n",
    "FC_th = 1.5 #1 or 1.5 or 2\n",
    "\n",
    "direction = 1\n",
    "log2FC_th = math.log(FC_th,2)*direction;log2FC_th\n",
    "\n",
    "gene_dict = {}\n",
    "res_l = []\n",
    "i=0\n",
    "for x in df_l:\n",
    "    padj_n = [y for y in x.columns if \"padj\" in y]\n",
    "    FC_n = [z for z in x.columns if \"log2FoldChange\" in z]\n",
    "    gene_dict.update({\"padj_\" + str(padj_th) + \"FC_h_\" + str(FC_th) + \"_\" + \n",
    "                      labels[i]: x.loc[((x[padj_n[0]]<padj_th) & (x[FC_n[0]]>log2FC_th)),'Unnamed: 0'].tolist()}) #must be >\n",
    "    i = i+1\n",
    "\n",
    "gene_dict.keys()\n",
    "\n",
    "[str(k) + \"  \" +str(len(v)) for k,v in gene_dict.items()]\n",
    "\n",
    "s = \"\"\n",
    "for k,v in gene_dict.items():\n",
    "        s +=  k + \"\\t\"\n",
    "        s += (\"\\t\").join(v) + \"\\n\"        \n",
    "\n",
    "out = open('gene_lists_' + \"padj_\" + str(padj_th) + \"FC_h_\" + str(FC_th) + \"_\" + key + '.txt', 'w')\n",
    "out.write(s)\n",
    "out.close()\n",
    "\n",
    "#Looking only in spleen\n",
    "f = plt.figure()\n",
    "\n",
    "venn2([set(gene_dict[list(gene_dict.keys())[0]]),\n",
    "       set(gene_dict[list(gene_dict.keys())[1]])], #set(gene_dict[list(gene_dict.keys())[3]])\n",
    "      set_labels = contrasts)\n",
    "\n",
    "plt.title('Comparison_of' + \"padj_\" + str(padj_th) + \"FC_h_\" + str(FC_th) + \"_\" + key +': \\n')\n",
    "plt.show()\n",
    "\n",
    "f.savefig('Comparison_of' + \"padj_\" + str(padj_th) + \"FC_h_\" + str(FC_th) + \"_\" + key + '.pdf', bbox_inches='tight')"
   ]
  },
  {
   "cell_type": "markdown",
   "metadata": {},
   "source": [
    "-------"
   ]
  },
  {
   "cell_type": "markdown",
   "metadata": {},
   "source": [
    "#### log2FC < -0.584962501 (FC < 1.5); padj < 0.05; "
   ]
  },
  {
   "cell_type": "code",
   "execution_count": 19,
   "metadata": {},
   "outputs": [
    {
     "data": {
      "image/png": "[encoded data removed]",
      "text/plain": [
       "<Figure size 432x288 with 1 Axes>"
      ]
     },
     "metadata": {},
     "output_type": "display_data"
    }
   ],
   "source": [
    "#parameter need to change\n",
    "key= \"TfhvsTn_TC_B6\" #\n",
    "contrasts = [\"TfhvsTn (TC)\", \"TfhvsTn (B6)\"] #may look up the gene_dict.keys() later\n",
    "padj_th = 0.05 # 0.05 or 0.1\n",
    "FC_th = 1.5 #1 or 1.5 or 2\n",
    "\n",
    "direction = -1\n",
    "\n",
    "log2FC_th = math.log(FC_th,2)*direction;log2FC_th\n",
    "\n",
    "gene_dict = {}\n",
    "res_l = []\n",
    "i=0\n",
    "for x in df_l:\n",
    "    padj_n = [y for y in x.columns if \"padj\" in y]\n",
    "    FC_n = [z for z in x.columns if \"log2FoldChange\" in z]\n",
    "    gene_dict.update({\"padj_\" + str(padj_th) + \"FC_l_\" + str(FC_th) + \"_\" + \n",
    "                      labels[i]: x.loc[((x[padj_n[0]]<padj_th) & (x[FC_n[0]]<log2FC_th)),'Unnamed: 0'].tolist()})\n",
    "    i = i+1\n",
    "\n",
    "gene_dict.keys()\n",
    "\n",
    "[str(k) + \"  \" +str(len(v)) for k,v in gene_dict.items()]\n",
    "\n",
    "s = \"\"\n",
    "for k,v in gene_dict.items():\n",
    "        s +=  k + \"\\t\"\n",
    "        s += (\"\\t\").join(v) + \"\\n\"        \n",
    "\n",
    "out = open('gene_lists_' + \"padj_\" + str(padj_th) + \"FC_l_\" + str(FC_th) + \"_\" + key + '.txt', 'w')\n",
    "out.write(s)\n",
    "out.close()\n",
    "\n",
    "#Looking only in spleen\n",
    "f = plt.figure()\n",
    "\n",
    "venn2([set(gene_dict[list(gene_dict.keys())[0]]),\n",
    "       set(gene_dict[list(gene_dict.keys())[1]])], #set(gene_dict[list(gene_dict.keys())[3]])\n",
    "      set_labels = contrasts)\n",
    "\n",
    "plt.title('Comparison_of' + \"padj_\" + str(padj_th) + \"FC_l_\" + str(FC_th) + \"_\" + key +': \\n')\n",
    "plt.show()\n",
    "\n",
    "f.savefig('Comparison_of' + \"padj_\" + str(padj_th) + \"FC_l_\" + str(FC_th) + \"_\" + key + '.pdf', bbox_inches='tight')"
   ]
  },
  {
   "cell_type": "markdown",
   "metadata": {},
   "source": [
    "-------------"
   ]
  }
 ],
 "metadata": {
  "kernelspec": {
   "display_name": "Python 3",
   "language": "python",
   "name": "python3"
  },
  "language_info": {
   "codemirror_mode": {
    "name": "ipython",
    "version": 3
   },
   "file_extension": ".py",
   "mimetype": "text/x-python",
   "name": "python",
   "nbconvert_exporter": "python",
   "pygments_lexer": "ipython3",
   "version": "3.8.5"
  }
 },
 "nbformat": 4,
 "nbformat_minor": 2
}
