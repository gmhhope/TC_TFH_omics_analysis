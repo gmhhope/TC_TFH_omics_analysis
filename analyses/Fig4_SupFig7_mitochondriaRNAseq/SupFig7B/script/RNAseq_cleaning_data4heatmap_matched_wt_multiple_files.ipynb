{
 "cells": [
  {
   "cell_type": "code",
   "execution_count": 1,
   "metadata": {},
   "outputs": [],
   "source": [
    "import pandas as pd\n",
    "import math\n",
    "import os"
   ]
  },
  {
   "cell_type": "code",
   "execution_count": 2,
   "metadata": {},
   "outputs": [],
   "source": [
    "#inputs\n",
    "df = pd.read_csv(\"../input/full_RNAseq_LRT_added.csv\",index_col = 0) "
   ]
  },
  {
   "cell_type": "code",
   "execution_count": 5,
   "metadata": {},
   "outputs": [],
   "source": [
    "HT4R_l = [x for x in os.listdir(\"../input/\") if \"MITOPHAGY\" in x and \"HT4R\" in x] #"
   ]
  },
  {
   "cell_type": "code",
   "execution_count": 8,
   "metadata": {},
   "outputs": [
    {
     "data": {
      "text/plain": [
       "'GO_MITOPHAGY_HT4R.csv'"
      ]
     },
     "execution_count": 8,
     "metadata": {},
     "output_type": "execute_result"
    }
   ],
   "source": [
    "HT4R_l[0]"
   ]
  },
  {
   "cell_type": "code",
   "execution_count": 9,
   "metadata": {},
   "outputs": [],
   "source": [
    "for gl_name in HT4R_l:\n",
    "    \n",
    "    gl = pd.read_csv(\"../input/\" + gl_name)\n",
    "\n",
    "    output_name =  gl_name.replace(\"_HT4R.csv\",\"\") + \"_log2FC4heatmap.csv\"\n",
    "    gl = gl['mouseSymbol'].tolist()\n",
    "\n",
    "    df.columns\n",
    "\n",
    "    cols = [\n",
    "            'padj_TCTnvsB6Tn',\n",
    "            'padj_TCTfhvsB6Tfh',\n",
    "            'padj_B6TfhvsB6Tn',\n",
    "            'padj_TCTfhvsTCTn',\n",
    "            'log2FoldChange_TCTnvsB6Tn',\n",
    "            'log2FoldChange_TCTfhvsB6Tfh',\n",
    "            'log2FoldChange_B6TfhvsB6Tn',\n",
    "            'log2FoldChange_TCTfhvsTCTn']\n",
    "\n",
    "    df_sel = df.loc[gl,cols]\n",
    "\n",
    "    #filtering for specific genes\n",
    "    df_sel = df_sel.loc[df_sel['padj_TCTfhvsB6Tfh'] < 0.05,:]\n",
    "\n",
    "    for i in range(df_sel.shape[0]):\n",
    "        for j in range(df_sel.shape[1]):\n",
    "            if j>3:\n",
    "                break\n",
    "            if (df_sel.iloc[i,j]>0.05) | (math.isnan(df_sel.iloc[i,j])): #0.051215 Il2rb\n",
    "                df_sel.iloc[i,j+4] = 0\n",
    "\n",
    "    df_sel\n",
    "\n",
    "    df_sel.to_csv(\"../output/\" + output_name)\n",
    "    df_sel.to_csv(\"../../draw_heatmap/input/\" + output_name)"
   ]
  }
 ],
 "metadata": {
  "kernelspec": {
   "display_name": "Python 3",
   "language": "python",
   "name": "python3"
  },
  "language_info": {
   "codemirror_mode": {
    "name": "ipython",
    "version": 3
   },
   "file_extension": ".py",
   "mimetype": "text/x-python",
   "name": "python",
   "nbconvert_exporter": "python",
   "pygments_lexer": "ipython3",
   "version": "3.6.5"
  }
 },
 "nbformat": 4,
 "nbformat_minor": 2
}
