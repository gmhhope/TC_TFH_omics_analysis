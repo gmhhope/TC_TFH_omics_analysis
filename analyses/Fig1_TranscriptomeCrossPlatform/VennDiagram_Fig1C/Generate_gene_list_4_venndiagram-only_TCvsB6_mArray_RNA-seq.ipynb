{
 "cells": [
  {
   "cell_type": "code",
   "execution_count": 7,
   "metadata": {},
   "outputs": [],
   "source": [
    "import pandas as pd\n",
    "import os "
   ]
  },
  {
   "cell_type": "code",
   "execution_count": 8,
   "metadata": {},
   "outputs": [],
   "source": [
    "path = \"/Volumes/LM_MG_drive_one/Morel_meta_analyses_transcriptomics/gene_overlap_analysis_B6vsTC_spTfh_mArrary_RNA-seq/result_tab/\"\n",
    "list_files = os.listdir(path)"
   ]
  },
  {
   "cell_type": "code",
   "execution_count": 9,
   "metadata": {},
   "outputs": [],
   "source": [
    "csv_files = [x for x in list_files if \".csv\" in x and \".ipynb\" and \"merged\" not in x and \"MLN\" not in x and \"Tn\" not in x]"
   ]
  },
  {
   "cell_type": "code",
   "execution_count": 10,
   "metadata": {
    "scrolled": false
   },
   "outputs": [
    {
     "data": {
      "text/plain": [
       "['res_Microarray_Tfh_TCvsB6_112719corrected.csv', 'result_TCvsB6_r2_Tfh.csv']"
      ]
     },
     "execution_count": 10,
     "metadata": {},
     "output_type": "execute_result"
    }
   ],
   "source": [
    "csv_files"
   ]
  },
  {
   "cell_type": "code",
   "execution_count": 11,
   "metadata": {},
   "outputs": [
    {
     "data": {
      "text/plain": [
       "['res_Microarray_Tfh_TCvsB6_112719corrected', 'TCvsB6_r2_Tfh']"
      ]
     },
     "execution_count": 11,
     "metadata": {},
     "output_type": "execute_result"
    }
   ],
   "source": [
    "labels = [x.split(\".\")[0].replace(\"result_\",\"\") for x in csv_files]\n",
    "labels"
   ]
  },
  {
   "cell_type": "code",
   "execution_count": 12,
   "metadata": {},
   "outputs": [],
   "source": [
    "df_l = []\n",
    "i = 0\n",
    "for item in csv_files:\n",
    "    temp = pd.read_csv(path + item)\n",
    "    temp.columns = ['Unnamed: 0'] + [labels[i] + \"_\" + x for x in temp.columns[1:]] \n",
    "    i+=1\n",
    "    df_l.append(temp)"
   ]
  },
  {
   "cell_type": "code",
   "execution_count": 13,
   "metadata": {
    "scrolled": true
   },
   "outputs": [
    {
     "data": {
      "text/plain": [
       "[Index(['Unnamed: 0', 'res_Microarray_Tfh_TCvsB6_112719corrected_stat',\n",
       "        'res_Microarray_Tfh_TCvsB6_112719corrected_padj',\n",
       "        'res_Microarray_Tfh_TCvsB6_112719corrected_log2FC_TCvsB6'],\n",
       "       dtype='object'),\n",
       " Index(['Unnamed: 0', 'TCvsB6_r2_Tfh_baseMean', 'TCvsB6_r2_Tfh_log2FoldChange',\n",
       "        'TCvsB6_r2_Tfh_lfcSE', 'TCvsB6_r2_Tfh_stat', 'TCvsB6_r2_Tfh_pvalue',\n",
       "        'TCvsB6_r2_Tfh_padj'],\n",
       "       dtype='object')]"
      ]
     },
     "execution_count": 13,
     "metadata": {},
     "output_type": "execute_result"
    }
   ],
   "source": [
    "[x.columns for x in df_l]"
   ]
  },
  {
   "cell_type": "code",
   "execution_count": 14,
   "metadata": {},
   "outputs": [],
   "source": [
    "m_df = pd.DataFrame()\n",
    "for x in df_l:\n",
    "    if m_df.shape[0] ==0:\n",
    "        m_df = x\n",
    "    else:\n",
    "        m_df = pd.merge(m_df,x,on ='Unnamed: 0')"
   ]
  },
  {
   "cell_type": "code",
   "execution_count": 15,
   "metadata": {},
   "outputs": [],
   "source": [
    "m_df.to_csv(\"merged_res_df_only_TCvsB6_mArray_RNAseq.csv\",index=False)"
   ]
  },
  {
   "cell_type": "markdown",
   "metadata": {},
   "source": [
    "# 1st 2 gene lists"
   ]
  },
  {
   "cell_type": "markdown",
   "metadata": {},
   "source": [
    "#### FC > 1.5 ; padj < 0.05"
   ]
  },
  {
   "cell_type": "code",
   "execution_count": 17,
   "metadata": {},
   "outputs": [],
   "source": [
    "gene_dict = {}\n",
    "res_l = []\n",
    "i=0\n",
    "for x in df_l:\n",
    "    \n",
    "    padj_n = [y for y in x.columns if \"padj\" in y]\n",
    "    FC_n = [z for z in x.columns if \"log2\" in z]\n",
    "    gene_dict.update({\"padj0.05_log2FC_h1.5\" + labels[i]: x.loc[((x[padj_n[0]]<0.05) & (x[FC_n[0]]>0.5849)),'Unnamed: 0'].tolist()})\n",
    "    i = i+1"
   ]
  },
  {
   "cell_type": "code",
   "execution_count": 18,
   "metadata": {
    "scrolled": true
   },
   "outputs": [
    {
     "data": {
      "text/plain": [
       "dict_keys(['padj0.05_log2FC_h1.5res_Microarray_Tfh_TCvsB6_112719corrected', 'padj0.05_log2FC_h1.5TCvsB6_r2_Tfh'])"
      ]
     },
     "execution_count": 18,
     "metadata": {},
     "output_type": "execute_result"
    }
   ],
   "source": [
    "gene_dict.keys()"
   ]
  },
  {
   "cell_type": "code",
   "execution_count": 19,
   "metadata": {},
   "outputs": [],
   "source": [
    "[str(k) + \"  \" +str(len(v)) for k,v in gene_dict.items()]\n",
    "\n",
    "s = \"\"\n",
    "for k,v in gene_dict.items():\n",
    "        s +=  k + \"\\t\"\n",
    "        s += (\"\\t\").join(v) + \"\\n\"        \n",
    "\n",
    "out = open('gene_lists_padj0.05_FChigher1.5.txt', 'w')\n",
    "out.write(s)\n",
    "out.close()"
   ]
  },
  {
   "cell_type": "code",
   "execution_count": 20,
   "metadata": {},
   "outputs": [],
   "source": [
    "from matplotlib_venn import venn2, venn2_circles\n",
    "import matplotlib.pyplot as plt"
   ]
  },
  {
   "cell_type": "code",
   "execution_count": 21,
   "metadata": {
    "scrolled": true
   },
   "outputs": [
    {
     "data": {
      "image/png": "[encoded data removed]",
      "text/plain": [
       "<Figure size 432x288 with 1 Axes>"
      ]
     },
     "metadata": {},
     "output_type": "display_data"
    }
   ],
   "source": [
    "#Looking only in spleen\n",
    "f = plt.figure()\n",
    "\n",
    "venn2([set(gene_dict[list(gene_dict.keys())[0]]),\n",
    "       set(gene_dict[list(gene_dict.keys())[1]])], #set(gene_dict[list(gene_dict.keys())[3]])\n",
    "      set_labels = (\"TC v.s. B6 (Tfh_microarray)\",\n",
    "                    \"TC v.s. B6 (Tfh)\"))\n",
    "\n",
    "plt.title('Comparison of padj0.05_log2FC_h1.5_Tfh_spleen_microarray: \\n')\n",
    "plt.show()\n",
    "\n",
    "f.savefig(\"Comparison of padj0.05_log2FC_h1.5_Tn_Tfh_spleen_microarray.pdf\", bbox_inches='tight')"
   ]
  },
  {
   "cell_type": "markdown",
   "metadata": {},
   "source": [
    "------------"
   ]
  },
  {
   "cell_type": "markdown",
   "metadata": {},
   "source": [
    "#### FC < -1.5 ; padj < 0.05"
   ]
  },
  {
   "cell_type": "code",
   "execution_count": 23,
   "metadata": {},
   "outputs": [],
   "source": [
    "gene_dict = {}\n",
    "res_l = []\n",
    "i=0\n",
    "for x in df_l:\n",
    "    \n",
    "    padj_n = [y for y in x.columns if \"padj\" in y]\n",
    "    FC_n = [z for z in x.columns if \"log2\" in z]\n",
    "    gene_dict.update({\"padj0.05_log2FC_l1.5\" + labels[i]: x.loc[((x[padj_n[0]]<0.05) & (x[FC_n[0]]<-0.5849)),'Unnamed: 0'].tolist()})\n",
    "    i = i+1"
   ]
  },
  {
   "cell_type": "code",
   "execution_count": 24,
   "metadata": {
    "scrolled": true
   },
   "outputs": [
    {
     "data": {
      "text/plain": [
       "dict_keys(['padj0.05_log2FC_l1.5res_Microarray_Tfh_TCvsB6_112719corrected', 'padj0.05_log2FC_l1.5TCvsB6_r2_Tfh'])"
      ]
     },
     "execution_count": 24,
     "metadata": {},
     "output_type": "execute_result"
    }
   ],
   "source": [
    "gene_dict.keys()"
   ]
  },
  {
   "cell_type": "code",
   "execution_count": 25,
   "metadata": {},
   "outputs": [],
   "source": [
    "[str(k) + \"  \" +str(len(v)) for k,v in gene_dict.items()]\n",
    "\n",
    "s = \"\"\n",
    "for k,v in gene_dict.items():\n",
    "        s +=  k + \"\\t\"\n",
    "        s += (\"\\t\").join(v) + \"\\n\"        \n",
    "\n",
    "out = open('gene_lists_padj0.05_FClower1.5.txt', 'w')\n",
    "out.write(s)\n",
    "out.close()"
   ]
  },
  {
   "cell_type": "code",
   "execution_count": 26,
   "metadata": {},
   "outputs": [],
   "source": [
    "from matplotlib_venn import venn2, venn2_circles\n",
    "import matplotlib.pyplot as plt"
   ]
  },
  {
   "cell_type": "code",
   "execution_count": 27,
   "metadata": {
    "scrolled": false
   },
   "outputs": [
    {
     "data": {
      "image/png": "[encoded data removed]",
      "text/plain": [
       "<Figure size 432x288 with 1 Axes>"
      ]
     },
     "metadata": {},
     "output_type": "display_data"
    }
   ],
   "source": [
    "#Looking only in spleen\n",
    "f = plt.figure()\n",
    "\n",
    "venn2([set(gene_dict[list(gene_dict.keys())[0]]),\n",
    "       set(gene_dict[list(gene_dict.keys())[1]])], #set(gene_dict[list(gene_dict.keys())[3]])\n",
    "      set_labels = (\"TC v.s. B6 (Tfh_microarray)\",\n",
    "                    \"TC v.s. B6 (Tfh)\"))\n",
    "\n",
    "plt.title('Comparison of padj0.05_log2FC_l1.5_Tfh_spleen_microarray: \\n')\n",
    "plt.show()\n",
    "\n",
    "f.savefig(\"Comparison of padj0.05_log2FC_l1.5_Tn_Tfh_spleen_microarray.pdf\", bbox_inches='tight')"
   ]
  },
  {
   "cell_type": "markdown",
   "metadata": {},
   "source": [
    "----------"
   ]
  },
  {
   "cell_type": "markdown",
   "metadata": {},
   "source": [
    "# 2nd 2 gene lists"
   ]
  },
  {
   "cell_type": "markdown",
   "metadata": {},
   "source": [
    "#### FC > 0; padj < 0.05"
   ]
  },
  {
   "cell_type": "code",
   "execution_count": 29,
   "metadata": {},
   "outputs": [],
   "source": [
    "gene_dict = {}\n",
    "res_l = []\n",
    "i=0\n",
    "for x in df_l:\n",
    "    \n",
    "    padj_n = [y for y in x.columns if \"padj\" in y]\n",
    "    FC_n = [z for z in x.columns if \"log2\" in z]\n",
    "    gene_dict.update({\"padj0.05_log2FC_h0\" + labels[i]: x.loc[((x[padj_n[0]]<0.05) & (x[FC_n[0]]>0)),'Unnamed: 0'].tolist()})\n",
    "    i = i+1"
   ]
  },
  {
   "cell_type": "code",
   "execution_count": 30,
   "metadata": {
    "scrolled": true
   },
   "outputs": [
    {
     "data": {
      "text/plain": [
       "dict_keys(['padj0.05_log2FC_h0res_Microarray_Tfh_TCvsB6_112719corrected', 'padj0.05_log2FC_h0TCvsB6_r2_Tfh'])"
      ]
     },
     "execution_count": 30,
     "metadata": {},
     "output_type": "execute_result"
    }
   ],
   "source": [
    "gene_dict.keys()"
   ]
  },
  {
   "cell_type": "code",
   "execution_count": 31,
   "metadata": {},
   "outputs": [],
   "source": [
    "[str(k) + \"  \" +str(len(v)) for k,v in gene_dict.items()]\n",
    "\n",
    "s = \"\"\n",
    "for k,v in gene_dict.items():\n",
    "        s +=  k + \"\\t\"\n",
    "        s += (\"\\t\").join(v) + \"\\n\"        \n",
    "\n",
    "out = open('gene_lists_padj0.05_FChigher0.txt', 'w')\n",
    "out.write(s)\n",
    "out.close()"
   ]
  },
  {
   "cell_type": "code",
   "execution_count": 32,
   "metadata": {},
   "outputs": [],
   "source": [
    "from matplotlib_venn import venn2, venn2_circles\n",
    "import matplotlib.pyplot as plt"
   ]
  },
  {
   "cell_type": "code",
   "execution_count": 33,
   "metadata": {
    "scrolled": true
   },
   "outputs": [
    {
     "data": {
      "image/png": "[encoded data removed]",
      "text/plain": [
       "<Figure size 432x288 with 1 Axes>"
      ]
     },
     "metadata": {},
     "output_type": "display_data"
    }
   ],
   "source": [
    "#Looking only in spleen\n",
    "f = plt.figure()\n",
    "\n",
    "venn2([set(gene_dict[list(gene_dict.keys())[0]]),\n",
    "       set(gene_dict[list(gene_dict.keys())[1]])], #set(gene_dict[list(gene_dict.keys())[3]])\n",
    "      set_labels = (\"TC v.s. B6 (Tfh_microarray)\",\n",
    "                    \"TC v.s. B6 (Tfh)\"))\n",
    "\n",
    "plt.title('Comparison of padj0.05_log2FC_h0_Tfh_spleen_microarray: \\n')\n",
    "plt.show()\n",
    "\n",
    "f.savefig(\"Comparison of padj0.05_log2FC_h0_Tn_Tfh_spleen_microarray.pdf\", bbox_inches='tight')"
   ]
  },
  {
   "cell_type": "markdown",
   "metadata": {},
   "source": [
    "------------"
   ]
  },
  {
   "cell_type": "markdown",
   "metadata": {},
   "source": [
    "# FC < 0 ; padj < 0.05"
   ]
  },
  {
   "cell_type": "code",
   "execution_count": 35,
   "metadata": {},
   "outputs": [],
   "source": [
    "gene_dict = {}\n",
    "res_l = []\n",
    "i=0\n",
    "for x in df_l:\n",
    "    \n",
    "    padj_n = [y for y in x.columns if \"padj\" in y]\n",
    "    FC_n = [z for z in x.columns if \"log2\" in z]\n",
    "    gene_dict.update({\"padj0.05_log2FC_l0\" + labels[i]: x.loc[((x[padj_n[0]]<0.05) & (x[FC_n[0]]<0)),'Unnamed: 0'].tolist()})\n",
    "    i = i+1"
   ]
  },
  {
   "cell_type": "code",
   "execution_count": 36,
   "metadata": {
    "scrolled": true
   },
   "outputs": [
    {
     "data": {
      "text/plain": [
       "dict_keys(['padj0.05_log2FC_l0res_Microarray_Tfh_TCvsB6_112719corrected', 'padj0.05_log2FC_l0TCvsB6_r2_Tfh'])"
      ]
     },
     "execution_count": 36,
     "metadata": {},
     "output_type": "execute_result"
    }
   ],
   "source": [
    "gene_dict.keys()"
   ]
  },
  {
   "cell_type": "code",
   "execution_count": 37,
   "metadata": {},
   "outputs": [],
   "source": [
    "[str(k) + \"  \" +str(len(v)) for k,v in gene_dict.items()]\n",
    "\n",
    "s = \"\"\n",
    "for k,v in gene_dict.items():\n",
    "        s +=  k + \"\\t\"\n",
    "        s += (\"\\t\").join(v) + \"\\n\"        \n",
    "\n",
    "out = open('gene_lists_padj0.05_FClower0.txt', 'w')\n",
    "out.write(s)\n",
    "out.close()"
   ]
  },
  {
   "cell_type": "code",
   "execution_count": 38,
   "metadata": {},
   "outputs": [],
   "source": [
    "from matplotlib_venn import venn2, venn2_circles\n",
    "import matplotlib.pyplot as plt"
   ]
  },
  {
   "cell_type": "code",
   "execution_count": 39,
   "metadata": {
    "scrolled": false
   },
   "outputs": [
    {
     "data": {
      "image/png": "[encoded data removed]",
      "text/plain": [
       "<Figure size 432x288 with 1 Axes>"
      ]
     },
     "metadata": {},
     "output_type": "display_data"
    }
   ],
   "source": [
    "#Looking only in spleen\n",
    "f = plt.figure()\n",
    "\n",
    "venn2([set(gene_dict[list(gene_dict.keys())[0]]),\n",
    "       set(gene_dict[list(gene_dict.keys())[1]])], #set(gene_dict[list(gene_dict.keys())[3]])\n",
    "      set_labels = (\"TC v.s. B6 (Tfh_microarray)\",\n",
    "                    \"TC v.s. B6 (Tfh)\"))\n",
    "\n",
    "plt.title('Comparison of padj0.05_log2FC_l0_Tfh_spleen_microarray: \\n')\n",
    "plt.show()\n",
    "\n",
    "f.savefig(\"Comparison of padj0.05_log2FC_l0_Tn_Tfh_spleen_microarray.pdf\", bbox_inches='tight')"
   ]
  }
 ],
 "metadata": {
  "kernelspec": {
   "display_name": "Python 3",
   "language": "python",
   "name": "python3"
  },
  "language_info": {
   "codemirror_mode": {
    "name": "ipython",
    "version": 3
   },
   "file_extension": ".py",
   "mimetype": "text/x-python",
   "name": "python",
   "nbconvert_exporter": "python",
   "pygments_lexer": "ipython3",
   "version": "3.6.5"
  }
 },
 "nbformat": 4,
 "nbformat_minor": 2
}
