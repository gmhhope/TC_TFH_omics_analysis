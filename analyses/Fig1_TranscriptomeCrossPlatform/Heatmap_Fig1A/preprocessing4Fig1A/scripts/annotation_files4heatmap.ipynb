{
 "cells": [
  {
   "cell_type": "code",
   "execution_count": 1,
   "metadata": {},
   "outputs": [],
   "source": [
    "import pandas as pd\n",
    "import numpy as np"
   ]
  },
  {
   "cell_type": "code",
   "execution_count": 2,
   "metadata": {},
   "outputs": [],
   "source": [
    "df = pd.read_csv(\"input/merged_mArray_RNAseq.csv\") #"
   ]
  },
  {
   "cell_type": "code",
   "execution_count": 3,
   "metadata": {
    "scrolled": true
   },
   "outputs": [
    {
     "data": {
      "text/plain": [
       "Index(['Unnamed: 0', 'mArray_stat', 'mArray_padj', 'mArray_log2FC_TCvsB6',\n",
       "       'RNAseq_baseMean', 'RNAseq_log2FoldChange', 'RNAseq_lfcSE',\n",
       "       'RNAseq_stat', 'RNAseq_pvalue', 'RNAseq_padj'],\n",
       "      dtype='object')"
      ]
     },
     "execution_count": 3,
     "metadata": {},
     "output_type": "execute_result"
    }
   ],
   "source": [
    "df.columns"
   ]
  },
  {
   "cell_type": "markdown",
   "metadata": {},
   "source": [
    "#### Check column names before moving on\n",
    "------------"
   ]
  },
  {
   "cell_type": "code",
   "execution_count": 4,
   "metadata": {
    "scrolled": true
   },
   "outputs": [],
   "source": [
    "gene_list_df = pd.read_csv(\"input/Tfh_specific_genes_Immunity2014_v2.csv\") #"
   ]
  },
  {
   "cell_type": "code",
   "execution_count": 5,
   "metadata": {},
   "outputs": [],
   "source": [
    "gene_l = gene_list_df['X'].tolist()"
   ]
  },
  {
   "cell_type": "code",
   "execution_count": 6,
   "metadata": {},
   "outputs": [],
   "source": [
    "new_l = []\n",
    "for item in df['Unnamed: 0']:\n",
    "    if item in gene_l:\n",
    "        new_l.append(item)\n",
    "    else:\n",
    "        new_l.append(\"NA\")"
   ]
  },
  {
   "cell_type": "code",
   "execution_count": 7,
   "metadata": {},
   "outputs": [],
   "source": [
    "df['annot'] = new_l"
   ]
  },
  {
   "cell_type": "code",
   "execution_count": 8,
   "metadata": {},
   "outputs": [],
   "source": [
    "df.to_csv(\"output/merged_mArray_RNAseq_annot.csv\",index=False) #"
   ]
  },
  {
   "cell_type": "markdown",
   "metadata": {},
   "source": [
    "-------------"
   ]
  },
  {
   "cell_type": "markdown",
   "metadata": {},
   "source": [
    "# anootate pathway\n",
    "* mitochondria"
   ]
  },
  {
   "cell_type": "code",
   "execution_count": 9,
   "metadata": {},
   "outputs": [],
   "source": [
    "import pandas as pd"
   ]
  },
  {
   "cell_type": "code",
   "execution_count": 10,
   "metadata": {},
   "outputs": [],
   "source": [
    "oxphos_gl = pd.read_csv(\"input/gl_KEGG_OXIDATIVE_PHOSPHORYLATION_4HTprep.csv\")\n",
    "TCA_gl = pd.read_csv(\"input/gl_KEGG_CITRATE_CYCLE_TCA_CYCLE_4HTprep.csv\")\n",
    "ribosome_gl = pd.read_csv(\"input/gl_KEGG_RIBOSOME_HT4R.csv\")"
   ]
  },
  {
   "cell_type": "code",
   "execution_count": 11,
   "metadata": {},
   "outputs": [],
   "source": [
    "oxphos_gl['metabolism'] = 'OXPHOS'\n",
    "TCA_gl['metabolism'] = 'TCA_cycle'\n",
    "ribosome_gl['metabolism'] = 'Ribosome'"
   ]
  },
  {
   "cell_type": "code",
   "execution_count": 12,
   "metadata": {},
   "outputs": [],
   "source": [
    "gl_df = pd.concat([oxphos_gl,TCA_gl,ribosome_gl],axis =0)"
   ]
  },
  {
   "cell_type": "code",
   "execution_count": 13,
   "metadata": {},
   "outputs": [
    {
     "data": {
      "text/plain": [
       "(205, 2)"
      ]
     },
     "execution_count": 13,
     "metadata": {},
     "output_type": "execute_result"
    }
   ],
   "source": [
    "gl_df.shape"
   ]
  },
  {
   "cell_type": "code",
   "execution_count": 14,
   "metadata": {},
   "outputs": [],
   "source": [
    "a_list = gl_df['mouseSymbol'].tolist()"
   ]
  },
  {
   "cell_type": "code",
   "execution_count": 15,
   "metadata": {},
   "outputs": [],
   "source": [
    "duplicate_gl = []\n",
    "for item in a_list:\n",
    "    if a_list.count(item) > 1:\n",
    "        duplicate_gl.append(item)"
   ]
  },
  {
   "cell_type": "code",
   "execution_count": 16,
   "metadata": {},
   "outputs": [],
   "source": [
    "uni_gl = [x for x in set(gl_df['mouseSymbol']) if x not in duplicate_gl]"
   ]
  },
  {
   "cell_type": "code",
   "execution_count": 17,
   "metadata": {},
   "outputs": [],
   "source": [
    "uni_df = gl_df.loc[gl_df['mouseSymbol'].isin(uni_gl),:]"
   ]
  },
  {
   "cell_type": "code",
   "execution_count": 18,
   "metadata": {},
   "outputs": [],
   "source": [
    "duplicate_gl = list(set(duplicate_gl))"
   ]
  },
  {
   "cell_type": "code",
   "execution_count": 19,
   "metadata": {},
   "outputs": [],
   "source": [
    "dup_df_cor = pd.DataFrame({\"mouseSymbol\": duplicate_gl, \"metabolism\": [\"OXPHOS\"]*len(duplicate_gl)})"
   ]
  },
  {
   "cell_type": "code",
   "execution_count": 20,
   "metadata": {},
   "outputs": [],
   "source": [
    "df_met_annot = pd.concat([uni_df,dup_df_cor],axis=0)"
   ]
  },
  {
   "cell_type": "code",
   "execution_count": 21,
   "metadata": {},
   "outputs": [
    {
     "data": {
      "text/plain": [
       "201"
      ]
     },
     "execution_count": 21,
     "metadata": {},
     "output_type": "execute_result"
    }
   ],
   "source": [
    "len(set(df_met_annot['mouseSymbol']))"
   ]
  },
  {
   "cell_type": "code",
   "execution_count": 22,
   "metadata": {},
   "outputs": [
    {
     "data": {
      "text/plain": [
       "Index(['Unnamed: 0', 'mArray_stat', 'mArray_padj', 'mArray_log2FC_TCvsB6',\n",
       "       'RNAseq_baseMean', 'RNAseq_log2FoldChange', 'RNAseq_lfcSE',\n",
       "       'RNAseq_stat', 'RNAseq_pvalue', 'RNAseq_padj', 'annot'],\n",
       "      dtype='object')"
      ]
     },
     "execution_count": 22,
     "metadata": {},
     "output_type": "execute_result"
    }
   ],
   "source": [
    "df.columns"
   ]
  },
  {
   "cell_type": "code",
   "execution_count": 23,
   "metadata": {},
   "outputs": [],
   "source": [
    "df2 = pd.merge(df,df_met_annot,left_on = \"Unnamed: 0\",right_on = \"mouseSymbol\",how = \"left\")"
   ]
  },
  {
   "cell_type": "markdown",
   "metadata": {},
   "source": [
    "# annotate statistics\n",
    "* co-up general \n",
    "* co-up FC1.5\n",
    "* co-down general\n",
    "* co-down FC1.5"
   ]
  },
  {
   "cell_type": "code",
   "execution_count": 24,
   "metadata": {
    "scrolled": true
   },
   "outputs": [
    {
     "data": {
      "text/plain": [
       "Index(['Unnamed: 0', 'mArray_stat', 'mArray_padj', 'mArray_log2FC_TCvsB6',\n",
       "       'RNAseq_baseMean', 'RNAseq_log2FoldChange', 'RNAseq_lfcSE',\n",
       "       'RNAseq_stat', 'RNAseq_pvalue', 'RNAseq_padj', 'annot', 'mouseSymbol',\n",
       "       'metabolism'],\n",
       "      dtype='object')"
      ]
     },
     "execution_count": 24,
     "metadata": {},
     "output_type": "execute_result"
    }
   ],
   "source": [
    "df2.columns"
   ]
  },
  {
   "cell_type": "code",
   "execution_count": 25,
   "metadata": {},
   "outputs": [],
   "source": [
    "df2['stat_annot'] = np.nan"
   ]
  },
  {
   "cell_type": "code",
   "execution_count": 26,
   "metadata": {},
   "outputs": [],
   "source": [
    "df2.loc[(df2['mArray_padj'] < 0.05)\n",
    "        & (df2['RNAseq_padj'] < 0.05)\n",
    "        & (df2['RNAseq_log2FoldChange'] > 0) \n",
    "        & (df2['mArray_log2FC_TCvsB6'] > 0),\"stat_annot\"] = \"co_high_FC0\""
   ]
  },
  {
   "cell_type": "code",
   "execution_count": 27,
   "metadata": {},
   "outputs": [],
   "source": [
    "df2.loc[(df2['mArray_padj'] < 0.05)\n",
    "        & (df2['RNAseq_padj'] < 0.05)\n",
    "        & (df2['RNAseq_log2FoldChange'] < 0) \n",
    "        & (df2['mArray_log2FC_TCvsB6'] < 0),\"stat_annot\"] = \"co_low_FC0\""
   ]
  },
  {
   "cell_type": "code",
   "execution_count": 28,
   "metadata": {},
   "outputs": [],
   "source": [
    "df2.loc[(df2['mArray_padj'] < 0.05)\n",
    "        & (df2['RNAseq_padj'] < 0.05)\n",
    "        & (df2['RNAseq_log2FoldChange'] > 0.5850) \n",
    "        & (df2['mArray_log2FC_TCvsB6'] > 0.5850),\"stat_annot\"] = \"co_high_FC1.5\""
   ]
  },
  {
   "cell_type": "code",
   "execution_count": 29,
   "metadata": {},
   "outputs": [],
   "source": [
    "df2.loc[(df2['mArray_padj'] < 0.05)\n",
    "        & (df2['RNAseq_padj'] < 0.05)\n",
    "        & (df2['RNAseq_log2FoldChange'] < -0.5850) \n",
    "        & (df2['mArray_log2FC_TCvsB6'] < -0.5850),\"stat_annot\"] = \"co_low_FC1.5\""
   ]
  },
  {
   "cell_type": "code",
   "execution_count": 30,
   "metadata": {},
   "outputs": [],
   "source": [
    "df2.to_csv(\"output/merged_mArray_RNAseq_annot_meta_stat_v2.csv\",index=False)"
   ]
  },
  {
   "cell_type": "code",
   "execution_count": 31,
   "metadata": {},
   "outputs": [],
   "source": [
    "df2.loc[(df2['RNAseq_log2FoldChange'] >5) ,'RNAseq_log2FoldChange'] = 5\n",
    "df2.loc[(df2['RNAseq_log2FoldChange'] <-5) ,'RNAseq_log2FoldChange'] = -5"
   ]
  },
  {
   "cell_type": "code",
   "execution_count": 32,
   "metadata": {},
   "outputs": [],
   "source": [
    "df2.loc[(df2['mArray_log2FC_TCvsB6'] >5) ,'mArray_log2FC_TCvsB6'] = 5\n",
    "df2.loc[(df2['mArray_log2FC_TCvsB6'] <-5) ,'mArray_log2FC_TCvsB6'] = -5"
   ]
  },
  {
   "cell_type": "code",
   "execution_count": 33,
   "metadata": {},
   "outputs": [],
   "source": [
    "df2.to_csv(\"output/merged_mArray_RNAseq_annot_meta_stat_log2FC_max5_v3.csv\",index=False)"
   ]
  }
 ],
 "metadata": {
  "kernelspec": {
   "display_name": "Python 3",
   "language": "python",
   "name": "python3"
  },
  "language_info": {
   "codemirror_mode": {
    "name": "ipython",
    "version": 3
   },
   "file_extension": ".py",
   "mimetype": "text/x-python",
   "name": "python",
   "nbconvert_exporter": "python",
   "pygments_lexer": "ipython3",
   "version": "3.8.5"
  }
 },
 "nbformat": 4,
 "nbformat_minor": 2
}
