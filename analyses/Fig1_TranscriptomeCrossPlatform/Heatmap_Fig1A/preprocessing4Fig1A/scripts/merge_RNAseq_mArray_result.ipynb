{
 "cells": [
  {
   "cell_type": "code",
   "execution_count": 1,
   "metadata": {},
   "outputs": [],
   "source": [
    "import pandas as pd"
   ]
  },
  {
   "cell_type": "code",
   "execution_count": 2,
   "metadata": {},
   "outputs": [],
   "source": [
    "df_mArray = pd.read_csv(\"input/res_Microarray_Tfh_TCvsB6_112719corrected.csv\")\n",
    "df_RNAseq = pd.read_csv(\"input/result_Tfh_B6vsTC_r2.csv\")"
   ]
  },
  {
   "cell_type": "code",
   "execution_count": 3,
   "metadata": {},
   "outputs": [
    {
     "data": {
      "text/html": [
       "<div>\n",
       "<style scoped>\n",
       "    .dataframe tbody tr th:only-of-type {\n",
       "        vertical-align: middle;\n",
       "    }\n",
       "\n",
       "    .dataframe tbody tr th {\n",
       "        vertical-align: top;\n",
       "    }\n",
       "\n",
       "    .dataframe thead th {\n",
       "        text-align: right;\n",
       "    }\n",
       "</style>\n",
       "<table border=\"1\" class=\"dataframe\">\n",
       "  <thead>\n",
       "    <tr style=\"text-align: right;\">\n",
       "      <th></th>\n",
       "      <th>Unnamed: 0</th>\n",
       "      <th>baseMean</th>\n",
       "      <th>log2FoldChange</th>\n",
       "      <th>lfcSE</th>\n",
       "      <th>stat</th>\n",
       "      <th>pvalue</th>\n",
       "      <th>padj</th>\n",
       "    </tr>\n",
       "  </thead>\n",
       "  <tbody>\n",
       "    <tr>\n",
       "      <th>0</th>\n",
       "      <td>0610007P14Rik</td>\n",
       "      <td>665.911041</td>\n",
       "      <td>-0.270450</td>\n",
       "      <td>0.101289</td>\n",
       "      <td>-2.670081</td>\n",
       "      <td>0.007583</td>\n",
       "      <td>0.024167</td>\n",
       "    </tr>\n",
       "    <tr>\n",
       "      <th>1</th>\n",
       "      <td>0610009B22Rik</td>\n",
       "      <td>83.678137</td>\n",
       "      <td>-0.092928</td>\n",
       "      <td>0.238234</td>\n",
       "      <td>-0.390071</td>\n",
       "      <td>0.696484</td>\n",
       "      <td>0.806321</td>\n",
       "    </tr>\n",
       "    <tr>\n",
       "      <th>2</th>\n",
       "      <td>0610009E02Rik</td>\n",
       "      <td>1.534522</td>\n",
       "      <td>0.315491</td>\n",
       "      <td>1.521890</td>\n",
       "      <td>0.207302</td>\n",
       "      <td>0.835774</td>\n",
       "      <td>0.901817</td>\n",
       "    </tr>\n",
       "    <tr>\n",
       "      <th>3</th>\n",
       "      <td>0610009L18Rik</td>\n",
       "      <td>21.210880</td>\n",
       "      <td>-0.900779</td>\n",
       "      <td>0.409842</td>\n",
       "      <td>-2.197872</td>\n",
       "      <td>0.027958</td>\n",
       "      <td>0.071747</td>\n",
       "    </tr>\n",
       "    <tr>\n",
       "      <th>4</th>\n",
       "      <td>0610009O20Rik</td>\n",
       "      <td>766.396195</td>\n",
       "      <td>0.253376</td>\n",
       "      <td>0.078948</td>\n",
       "      <td>3.209404</td>\n",
       "      <td>0.001330</td>\n",
       "      <td>0.005451</td>\n",
       "    </tr>\n",
       "  </tbody>\n",
       "</table>\n",
       "</div>"
      ],
      "text/plain": [
       "      Unnamed: 0    baseMean  log2FoldChange     lfcSE      stat    pvalue  \\\n",
       "0  0610007P14Rik  665.911041       -0.270450  0.101289 -2.670081  0.007583   \n",
       "1  0610009B22Rik   83.678137       -0.092928  0.238234 -0.390071  0.696484   \n",
       "2  0610009E02Rik    1.534522        0.315491  1.521890  0.207302  0.835774   \n",
       "3  0610009L18Rik   21.210880       -0.900779  0.409842 -2.197872  0.027958   \n",
       "4  0610009O20Rik  766.396195        0.253376  0.078948  3.209404  0.001330   \n",
       "\n",
       "       padj  \n",
       "0  0.024167  \n",
       "1  0.806321  \n",
       "2  0.901817  \n",
       "3  0.071747  \n",
       "4  0.005451  "
      ]
     },
     "execution_count": 3,
     "metadata": {},
     "output_type": "execute_result"
    }
   ],
   "source": [
    "df_RNAseq[0:5]"
   ]
  },
  {
   "cell_type": "code",
   "execution_count": 4,
   "metadata": {
    "scrolled": true
   },
   "outputs": [
    {
     "data": {
      "text/html": [
       "<div>\n",
       "<style scoped>\n",
       "    .dataframe tbody tr th:only-of-type {\n",
       "        vertical-align: middle;\n",
       "    }\n",
       "\n",
       "    .dataframe tbody tr th {\n",
       "        vertical-align: top;\n",
       "    }\n",
       "\n",
       "    .dataframe thead th {\n",
       "        text-align: right;\n",
       "    }\n",
       "</style>\n",
       "<table border=\"1\" class=\"dataframe\">\n",
       "  <thead>\n",
       "    <tr style=\"text-align: right;\">\n",
       "      <th></th>\n",
       "      <th>Unnamed: 0</th>\n",
       "      <th>stat</th>\n",
       "      <th>padj</th>\n",
       "      <th>log2FC_TCvsB6</th>\n",
       "    </tr>\n",
       "  </thead>\n",
       "  <tbody>\n",
       "    <tr>\n",
       "      <th>0</th>\n",
       "      <td>BC147527</td>\n",
       "      <td>-39.9151</td>\n",
       "      <td>3.700000e-08</td>\n",
       "      <td>-2.906320</td>\n",
       "    </tr>\n",
       "    <tr>\n",
       "      <th>1</th>\n",
       "      <td>Tceanc2</td>\n",
       "      <td>-27.4472</td>\n",
       "      <td>2.920000e-07</td>\n",
       "      <td>-1.266820</td>\n",
       "    </tr>\n",
       "    <tr>\n",
       "      <th>2</th>\n",
       "      <td>Ptpn5</td>\n",
       "      <td>-24.2886</td>\n",
       "      <td>3.520000e-07</td>\n",
       "      <td>-1.286300</td>\n",
       "    </tr>\n",
       "    <tr>\n",
       "      <th>3</th>\n",
       "      <td>Iglon5</td>\n",
       "      <td>15.4722</td>\n",
       "      <td>4.640000e-06</td>\n",
       "      <td>0.950549</td>\n",
       "    </tr>\n",
       "    <tr>\n",
       "      <th>4</th>\n",
       "      <td>Ppp1r2-ps2</td>\n",
       "      <td>-15.8075</td>\n",
       "      <td>6.390000e-06</td>\n",
       "      <td>-0.923041</td>\n",
       "    </tr>\n",
       "  </tbody>\n",
       "</table>\n",
       "</div>"
      ],
      "text/plain": [
       "   Unnamed: 0     stat          padj  log2FC_TCvsB6\n",
       "0    BC147527 -39.9151  3.700000e-08      -2.906320\n",
       "1     Tceanc2 -27.4472  2.920000e-07      -1.266820\n",
       "2       Ptpn5 -24.2886  3.520000e-07      -1.286300\n",
       "3      Iglon5  15.4722  4.640000e-06       0.950549\n",
       "4  Ppp1r2-ps2 -15.8075  6.390000e-06      -0.923041"
      ]
     },
     "execution_count": 4,
     "metadata": {},
     "output_type": "execute_result"
    }
   ],
   "source": [
    "df_mArray[0:5]"
   ]
  },
  {
   "cell_type": "code",
   "execution_count": 5,
   "metadata": {},
   "outputs": [],
   "source": [
    "df_mArray.columns = [df_mArray.columns[0]] + [\"mArray_\" + x for x in df_mArray.columns[1:]]\n",
    "df_RNAseq.columns = [df_RNAseq.columns[0]] + [\"RNAseq_\" + x for x in df_RNAseq.columns[1:]]"
   ]
  },
  {
   "cell_type": "code",
   "execution_count": 6,
   "metadata": {},
   "outputs": [],
   "source": [
    "merge_df = pd.merge(df_mArray,df_RNAseq, on = \"Unnamed: 0\", how = \"inner\")"
   ]
  },
  {
   "cell_type": "code",
   "execution_count": 7,
   "metadata": {},
   "outputs": [],
   "source": [
    "merge_df.to_csv(\"input/merged_mArray_RNAseq.csv\", index = False)"
   ]
  }
 ],
 "metadata": {
  "kernelspec": {
   "display_name": "Python 3",
   "language": "python",
   "name": "python3"
  },
  "language_info": {
   "codemirror_mode": {
    "name": "ipython",
    "version": 3
   },
   "file_extension": ".py",
   "mimetype": "text/x-python",
   "name": "python",
   "nbconvert_exporter": "python",
   "pygments_lexer": "ipython3",
   "version": "3.6.5"
  }
 },
 "nbformat": 4,
 "nbformat_minor": 2
}
