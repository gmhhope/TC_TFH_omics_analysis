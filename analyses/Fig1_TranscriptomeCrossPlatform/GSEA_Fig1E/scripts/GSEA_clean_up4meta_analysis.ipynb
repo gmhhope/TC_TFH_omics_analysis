{
 "cells": [
  {
   "cell_type": "code",
   "execution_count": 11,
   "metadata": {},
   "outputs": [],
   "source": [
    "import pandas as pd\n",
    "import os"
   ]
  },
  {
   "cell_type": "code",
   "execution_count": 13,
   "metadata": {},
   "outputs": [
    {
     "data": {
      "text/plain": [
       "['gset_report_merged_microarray_Tfh_2grp.csv',\n",
       " 'gset_report_merged_Sp_Tfh_2grp.csv']"
      ]
     },
     "execution_count": 13,
     "metadata": {},
     "output_type": "execute_result"
    }
   ],
   "source": [
    "gset_l = [x for x in os.listdir(\"./\") if \"gset_report_merged\" in x and \"2grp\" in x];gset_l"
   ]
  },
  {
   "cell_type": "code",
   "execution_count": 14,
   "metadata": {},
   "outputs": [],
   "source": [
    "df = pd.DataFrame()\n",
    "for file in gset_l:\n",
    "    df = pd.concat([df,pd.read_csv(file)],axis=0)   "
   ]
  },
  {
   "cell_type": "code",
   "execution_count": 15,
   "metadata": {
    "scrolled": true
   },
   "outputs": [
    {
     "data": {
      "text/plain": [
       "Index(['NAME', 'GS<br> follow link to MSigDB', 'GS DETAILS', 'SIZE', 'ES',\n",
       "       'NES', 'NOM p-val', 'FDR q-val', 'FWER p-val', 'RANK AT MAX',\n",
       "       'LEADING EDGE', 'group'],\n",
       "      dtype='object')"
      ]
     },
     "execution_count": 15,
     "metadata": {},
     "output_type": "execute_result"
    }
   ],
   "source": [
    "df.columns"
   ]
  },
  {
   "cell_type": "code",
   "execution_count": 22,
   "metadata": {},
   "outputs": [],
   "source": [
    "df_filt = df.loc[df['NAME'].isin(['KEGG_GLYCEROPHOSPHOLIPID_METABOLISM','KEGG_PHOSPHATIDYLINOSITOL_SIGNALING_SYSTE']),:]"
   ]
  },
  {
   "cell_type": "code",
   "execution_count": 30,
   "metadata": {},
   "outputs": [],
   "source": [
    "df_filt = df.loc[(df['FDR q-val']<0.01) | (df['NAME'].isin(['KEGG_GLYCEROPHOSPHOLIPID_METABOLISM','KEGG_PHOSPHATIDYLINOSITOL_SIGNALING_SYSTEM'])),:]"
   ]
  },
  {
   "cell_type": "code",
   "execution_count": 31,
   "metadata": {},
   "outputs": [
    {
     "data": {
      "text/plain": [
       "(33, 12)"
      ]
     },
     "execution_count": 31,
     "metadata": {},
     "output_type": "execute_result"
    }
   ],
   "source": [
    "df_filt.shape"
   ]
  },
  {
   "cell_type": "code",
   "execution_count": 32,
   "metadata": {},
   "outputs": [],
   "source": [
    "df_filt = df_filt.sort_values(by=['NES','group'], ascending=False)"
   ]
  },
  {
   "cell_type": "code",
   "execution_count": 33,
   "metadata": {},
   "outputs": [],
   "source": [
    "df_filt.to_csv(\"meta_df4bubble_mod.csv\")"
   ]
  },
  {
   "cell_type": "code",
   "execution_count": null,
   "metadata": {},
   "outputs": [],
   "source": []
  },
  {
   "cell_type": "markdown",
   "metadata": {},
   "source": [
    "--------"
   ]
  },
  {
   "cell_type": "code",
   "execution_count": 1,
   "metadata": {},
   "outputs": [],
   "source": [
    "#selection"
   ]
  },
  {
   "cell_type": "code",
   "execution_count": 13,
   "metadata": {},
   "outputs": [],
   "source": [
    "import pandas as pd\n",
    "import os\n",
    "\n",
    "gset_l = [x for x in os.listdir(\"./\") if \"gset_report_merged\" in x and \"2grp\" in x]"
   ]
  },
  {
   "cell_type": "code",
   "execution_count": 14,
   "metadata": {},
   "outputs": [
    {
     "data": {
      "text/plain": [
       "['gset_report_merged_microarray_Tfh_2grp.csv',\n",
       " 'gset_report_merged_Sp_Tfh_2grp.csv']"
      ]
     },
     "execution_count": 14,
     "metadata": {},
     "output_type": "execute_result"
    }
   ],
   "source": [
    "gset_l"
   ]
  },
  {
   "cell_type": "code",
   "execution_count": 15,
   "metadata": {},
   "outputs": [],
   "source": [
    "select = [\"KEGG_PHOSPHATIDYLINOSITOL_SIGNALING_SYSTEM\",\n",
    "          \"KEGG_GLYCEROPHOSPHOLIPID_METABOLISM\",\n",
    "          \"KEGG_PENTOSE_PHOSPHATE_PATHWAY\",\n",
    "          \"KEGG_PROPANOATE_METABOLISM\",\n",
    "         \"KEGG_CITRATE_CYCLE_TCA_CYCLE\",\n",
    "         \"KEGG_DNA_REPLICATION\",\n",
    "         \"KEGG_PROTEASOME\",\n",
    "         \"KEGG_GLYCOLYSIS_GLUCONEOGENESIS\",\n",
    "         \"KEGG_OXIDATIVE_PHOSPHORYLATION\",\n",
    "         \"KEGG_PENTOSE_PHOSPHATE_PATHWAY\"]"
   ]
  },
  {
   "cell_type": "code",
   "execution_count": 16,
   "metadata": {},
   "outputs": [],
   "source": [
    "df = pd.DataFrame()\n",
    "for file in gset_l:\n",
    "    df = pd.concat([df,pd.read_csv(file)],axis=0)   "
   ]
  },
  {
   "cell_type": "code",
   "execution_count": 17,
   "metadata": {},
   "outputs": [],
   "source": [
    "df_filt = df.loc[df['NAME'].isin(select),:]"
   ]
  },
  {
   "cell_type": "code",
   "execution_count": 18,
   "metadata": {},
   "outputs": [],
   "source": [
    "df_sort = df_filt.sort_values(by=['NES','group'], ascending=False)\n",
    "\n",
    "df_sort.to_csv(\"meta_df4bubble_diff_filtering_select.csv\")"
   ]
  }
 ],
 "metadata": {
  "kernelspec": {
   "display_name": "Python 3",
   "language": "python",
   "name": "python3"
  },
  "language_info": {
   "codemirror_mode": {
    "name": "ipython",
    "version": 3
   },
   "file_extension": ".py",
   "mimetype": "text/x-python",
   "name": "python",
   "nbconvert_exporter": "python",
   "pygments_lexer": "ipython3",
   "version": "3.6.5"
  }
 },
 "nbformat": 4,
 "nbformat_minor": 2
}
