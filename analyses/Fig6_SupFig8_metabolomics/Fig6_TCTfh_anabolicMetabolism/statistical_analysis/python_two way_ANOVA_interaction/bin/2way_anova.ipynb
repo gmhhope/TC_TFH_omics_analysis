{
 "cells": [
  {
   "cell_type": "code",
   "execution_count": 2,
   "metadata": {},
   "outputs": [],
   "source": [
    "import statsmodels.api as sm\n",
    "import statsmodels.formula.api as smf\n",
    "import numpy as np\n",
    "import pandas as pd\n",
    "import os"
   ]
  },
  {
   "cell_type": "code",
   "execution_count": 4,
   "metadata": {},
   "outputs": [
    {
     "data": {
      "text/plain": [
       "['.DS_Store',\n",
       " '.ipynb_checkpoints',\n",
       " 'helpful_links',\n",
       " 'log2_feature_tab_011920.csv',\n",
       " 'metadata.csv',\n",
       " 'Untitled.ipynb']"
      ]
     },
     "execution_count": 4,
     "metadata": {},
     "output_type": "execute_result"
    }
   ],
   "source": [
    "os.listdir()"
   ]
  },
  {
   "cell_type": "code",
   "execution_count": 18,
   "metadata": {},
   "outputs": [],
   "source": [
    "data_df = pd.read_csv(\"log2_feature_tab_011920.csv\",index_col=0)\n",
    "t_data_df = data_df.T"
   ]
  },
  {
   "cell_type": "code",
   "execution_count": 20,
   "metadata": {},
   "outputs": [],
   "source": [
    "meta_df = pd.read_csv(\"metadata.csv\",index_col=1)"
   ]
  },
  {
   "cell_type": "code",
   "execution_count": 35,
   "metadata": {},
   "outputs": [
    {
     "data": {
      "text/plain": [
       "(12, 121)"
      ]
     },
     "execution_count": 35,
     "metadata": {},
     "output_type": "execute_result"
    }
   ],
   "source": [
    "t_data_df.shape"
   ]
  },
  {
   "cell_type": "code",
   "execution_count": 62,
   "metadata": {},
   "outputs": [],
   "source": [
    "pval_l = []\n",
    "for i in range(t_data_df.shape[1]):\n",
    "    m_df = pd.merge(meta_df.loc[:,['Genotype','Celltype']],pd.DataFrame(t_data_df.iloc[:,i]) , left_index=True, right_index=True)\n",
    "    m_df.columns = ['Genotype','Celltype','log2Int']\n",
    "\n",
    "    mod = smf.ols(formula='log2Int ~ C(Genotype) * C(Celltype)', data=m_df)\n",
    "\n",
    "    #https://www.statsmodels.org/dev/example_formulas.html\n",
    "    res = mod.fit()\n",
    "    table = sm.stats.anova_lm(res, typ=2) # Type 2 Anova DataFrame\n",
    "\n",
    "    pval_l.append(table.iloc[2,3])"
   ]
  },
  {
   "cell_type": "code",
   "execution_count": 82,
   "metadata": {},
   "outputs": [],
   "source": [
    "pval_df = pd.DataFrame(pval_l,columns = ['2wayAnova_pval'],index = data_df.index)"
   ]
  },
  {
   "cell_type": "code",
   "execution_count": 87,
   "metadata": {},
   "outputs": [],
   "source": [
    "merged_df = pd.concat([data_df,pval_df],axis = 1) "
   ]
  },
  {
   "cell_type": "code",
   "execution_count": 89,
   "metadata": {},
   "outputs": [],
   "source": [
    "merged_df.to_csv(\"2wayAnova.csv\")"
   ]
  }
 ],
 "metadata": {
  "kernelspec": {
   "display_name": "Python 3",
   "language": "python",
   "name": "python3"
  },
  "language_info": {
   "codemirror_mode": {
    "name": "ipython",
    "version": 3
   },
   "file_extension": ".py",
   "mimetype": "text/x-python",
   "name": "python",
   "nbconvert_exporter": "python",
   "pygments_lexer": "ipython3",
   "version": "3.6.5"
  }
 },
 "nbformat": 4,
 "nbformat_minor": 2
}
