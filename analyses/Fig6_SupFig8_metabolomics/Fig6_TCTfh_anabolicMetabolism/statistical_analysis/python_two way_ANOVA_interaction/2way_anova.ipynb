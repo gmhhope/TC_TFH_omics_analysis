{
 "cells": [
  {
   "cell_type": "code",
   "execution_count": 2,
   "metadata": {},
   "outputs": [],
   "source": [
    "import statsmodels.api as sm\n",
    "import statsmodels.formula.api as smf\n",
    "import numpy as np\n",
    "import pandas as pd\n",
    "import os"
   ]
  },
  {
   "cell_type": "code",
   "execution_count": 2,
   "metadata": {},
   "outputs": [
    {
     "data": {
      "text/plain": [
       "['.DS_Store',\n",
       " '.ipynb_checkpoints',\n",
       " '2way_anova.ipynb',\n",
       " '2wayAnova.csv',\n",
       " 'bin',\n",
       " 'metadata.csv',\n",
       " 'metadata2_Experimental_design.csv',\n",
       " 'padj_2way_anova.R',\n",
       " 'padj_on_all_2wayAnova.csv',\n",
       " 'padj_on_annot_2wayAnova.csv']"
      ]
     },
     "execution_count": 2,
     "metadata": {},
     "output_type": "execute_result"
    }
   ],
   "source": [
    "os.listdir()"
   ]
  },
  {
   "cell_type": "code",
   "execution_count": 14,
   "metadata": {},
   "outputs": [],
   "source": [
    "data_df = pd.read_csv(\"../../X0_log2_transformed_log2FC/featab_simp_norm_annot_rm_TC-5_log2.csv\",index_col=0)\n",
    "t_data_df = data_df.T"
   ]
  },
  {
   "cell_type": "code",
   "execution_count": 15,
   "metadata": {
    "scrolled": false
   },
   "outputs": [
    {
     "data": {
      "text/plain": [
       "Index(['C2_B6.1_Tfh_007', 'C2_B6.2_Tfh_008', 'C2_B6.4_Tfh_009',\n",
       "       'C2_B6.6_Tfh_010', 'C2_B6.7_Tfh_011', 'C2_B6.8_Tfh_012',\n",
       "       'C2_B6.1_Tn_001', 'C2_B6.2_Tn_002', 'C2_B6.4_Tn_003', 'C2_B6.6_Tn_004',\n",
       "       'C2_B6.7_Tn_005', 'C2_B6.8_Tn_006', 'C1_B6.1_Tfh_004', 'C1_B6.1_Tn_001',\n",
       "       'C1_B6.2_Tfh_005', 'C1_B6.2_Tn_002', 'C1_B6.3_Tfh_006',\n",
       "       'C1_B6.3_Tn_003', 'C1_TC.1_Tfh_010', 'C1_TC.1_Tn_007',\n",
       "       'C1_TC.2_Tfh_011', 'C1_TC.2_Tn_008', 'C1_TC.2_Tn_009',\n",
       "       'C1_TC.3_Tfh_012', 'C2_TC.1_Tfh_018', 'C2_TC.2_Tfh_019',\n",
       "       'C2_TC.3_Tfh_020', 'C2_TC.4_Tfh_021', 'C2_TC.1_Tn_013',\n",
       "       'C2_TC.2_Tn_014', 'C2_TC.3_Tn_015', 'C2_TC.4_Tn_016'],\n",
       "      dtype='object')"
      ]
     },
     "execution_count": 15,
     "metadata": {},
     "output_type": "execute_result"
    }
   ],
   "source": [
    "t_data_df.index"
   ]
  },
  {
   "cell_type": "code",
   "execution_count": 16,
   "metadata": {},
   "outputs": [
    {
     "data": {
      "text/plain": [
       "Index(['C2_B6.1_Tfh_007', 'C2_B6.2_Tfh_008', 'C2_B6.4_Tfh_009',\n",
       "       'C2_B6.6_Tfh_010', 'C2_B6.7_Tfh_011', 'C2_B6.8_Tfh_012',\n",
       "       'C2_B6.1_Tn_001', 'C2_B6.2_Tn_002', 'C2_B6.4_Tn_003', 'C2_B6.6_Tn_004',\n",
       "       'C2_B6.7_Tn_005', 'C2_B6.8_Tn_006', 'C1_B6.1_Tfh_004', 'C1_B6.1_Tn_001',\n",
       "       'C1_B6.2_Tfh_005', 'C1_B6.2_Tn_002', 'C1_B6.3_Tfh_006',\n",
       "       'C1_B6.3_Tn_003', 'C1_TC.1_Tfh_010', 'C1_TC.1_Tn_007',\n",
       "       'C1_TC.2_Tfh_011', 'C1_TC.2_Tn_008', 'C1_TC.2_Tn_009',\n",
       "       'C1_TC.3_Tfh_012', 'C2_TC.1_Tfh_018', 'C2_TC.2_Tfh_019',\n",
       "       'C2_TC.3_Tfh_020', 'C2_TC.4_Tfh_021', 'C2_TC.1_Tn_013',\n",
       "       'C2_TC.2_Tn_014', 'C2_TC.3_Tn_015', 'C2_TC.4_Tn_016'],\n",
       "      dtype='object')"
      ]
     },
     "execution_count": 16,
     "metadata": {},
     "output_type": "execute_result"
    }
   ],
   "source": [
    "t_data_df.index"
   ]
  },
  {
   "cell_type": "code",
   "execution_count": 40,
   "metadata": {
    "scrolled": true
   },
   "outputs": [],
   "source": [
    "meta_df = pd.read_csv(\"metadata_SampleInfo_mod_rmTC-5.csv\") # you may need to change index_col to give the right index"
   ]
  },
  {
   "cell_type": "code",
   "execution_count": 42,
   "metadata": {
    "scrolled": false
   },
   "outputs": [],
   "source": [
    "meta_df.index = [x.replace(\"-\",\".\") for x in meta_df['SampleID']]"
   ]
  },
  {
   "cell_type": "code",
   "execution_count": 29,
   "metadata": {
    "scrolled": true
   },
   "outputs": [
    {
     "data": {
      "text/plain": [
       "(32, 111)"
      ]
     },
     "execution_count": 29,
     "metadata": {},
     "output_type": "execute_result"
    }
   ],
   "source": [
    "t_data_df.shape"
   ]
  },
  {
   "cell_type": "code",
   "execution_count": 43,
   "metadata": {},
   "outputs": [],
   "source": [
    "pval_l = []\n",
    "for i in range(t_data_df.shape[1]):\n",
    "    m_df = pd.merge(meta_df.loc[:,['Genotype','Celltype']],pd.DataFrame(t_data_df.iloc[:,i]) , left_index=True, right_index=True)\n",
    "    m_df.columns = ['Genotype','Celltype','log2Int']\n",
    "\n",
    "    mod = smf.ols(formula='log2Int ~ C(Genotype) * C(Celltype)', data=m_df)\n",
    "\n",
    "    #https://www.statsmodels.org/dev/example_formulas.html\n",
    "    res = mod.fit()\n",
    "    table = sm.stats.anova_lm(res, typ=2) # Type 2 Anova DataFrame\n",
    "\n",
    "    pval_l.append(table.iloc[2,3])"
   ]
  },
  {
   "cell_type": "code",
   "execution_count": 44,
   "metadata": {},
   "outputs": [],
   "source": [
    "pval_df = pd.DataFrame(pval_l,columns = ['2wayAnova_pval'],index = data_df.index)"
   ]
  },
  {
   "cell_type": "code",
   "execution_count": 48,
   "metadata": {},
   "outputs": [],
   "source": [
    "pval_df.to_csv(\"2wayAnova.csv\")"
   ]
  },
  {
   "cell_type": "code",
   "execution_count": 49,
   "metadata": {},
   "outputs": [],
   "source": [
    "merged_df = pd.concat([data_df,pval_df],axis = 1) "
   ]
  },
  {
   "cell_type": "code",
   "execution_count": 50,
   "metadata": {},
   "outputs": [],
   "source": [
    "merged_df.to_csv(\"2wayAnova_merged_wt_data_table.csv\")"
   ]
  }
 ],
 "metadata": {
  "kernelspec": {
   "display_name": "Python 3",
   "language": "python",
   "name": "python3"
  },
  "language_info": {
   "codemirror_mode": {
    "name": "ipython",
    "version": 3
   },
   "file_extension": ".py",
   "mimetype": "text/x-python",
   "name": "python",
   "nbconvert_exporter": "python",
   "pygments_lexer": "ipython3",
   "version": "3.6.5"
  }
 },
 "nbformat": 4,
 "nbformat_minor": 2
}
