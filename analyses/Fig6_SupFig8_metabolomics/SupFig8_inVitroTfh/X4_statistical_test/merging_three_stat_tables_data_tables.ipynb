{
 "cells": [
  {
   "cell_type": "code",
   "execution_count": 4,
   "metadata": {},
   "outputs": [],
   "source": [
    "import pandas as pd"
   ]
  },
  {
   "cell_type": "code",
   "execution_count": 5,
   "metadata": {},
   "outputs": [],
   "source": [
    "raw_df = pd.read_csv(\"../X2_log2transform/Jeff-featab_rmTfh5_log2_clean.csv\")"
   ]
  },
  {
   "cell_type": "code",
   "execution_count": 7,
   "metadata": {
    "scrolled": true
   },
   "outputs": [
    {
     "data": {
      "text/html": [
       "<div>\n",
       "<style scoped>\n",
       "    .dataframe tbody tr th:only-of-type {\n",
       "        vertical-align: middle;\n",
       "    }\n",
       "\n",
       "    .dataframe tbody tr th {\n",
       "        vertical-align: top;\n",
       "    }\n",
       "\n",
       "    .dataframe thead th {\n",
       "        text-align: right;\n",
       "    }\n",
       "</style>\n",
       "<table border=\"1\" class=\"dataframe\">\n",
       "  <thead>\n",
       "    <tr style=\"text-align: right;\">\n",
       "      <th></th>\n",
       "      <th>metabolite</th>\n",
       "      <th>II_SC_1_Tcells</th>\n",
       "      <th>II_SC_2_Tcells</th>\n",
       "      <th>II_SC_3_Tcells</th>\n",
       "      <th>II_SC_4_Tcells</th>\n",
       "      <th>II_SC_6_Tfhcells</th>\n",
       "      <th>II_SC_7_Tfhcells</th>\n",
       "      <th>II_SC_8_Tfhcells</th>\n",
       "      <th>II_SC_9_Th1cells</th>\n",
       "      <th>II_SC_10_Th1cells</th>\n",
       "      <th>II_SC_11_Th1cells</th>\n",
       "      <th>II_SC_12_Th1cells</th>\n",
       "      <th>II_SC_13_Th17cells</th>\n",
       "      <th>II_SC_14_Th17cells</th>\n",
       "      <th>II_SC_15_Th17cells</th>\n",
       "      <th>II_SC_16_Th17cells</th>\n",
       "    </tr>\n",
       "  </thead>\n",
       "  <tbody>\n",
       "    <tr>\n",
       "      <th>0</th>\n",
       "      <td>Hypotaurine</td>\n",
       "      <td>21.351001</td>\n",
       "      <td>21.499492</td>\n",
       "      <td>21.393333</td>\n",
       "      <td>21.235683</td>\n",
       "      <td>21.291045</td>\n",
       "      <td>21.168247</td>\n",
       "      <td>21.221216</td>\n",
       "      <td>20.466707</td>\n",
       "      <td>20.717077</td>\n",
       "      <td>20.614874</td>\n",
       "      <td>20.533659</td>\n",
       "      <td>21.023483</td>\n",
       "      <td>21.019268</td>\n",
       "      <td>20.921813</td>\n",
       "      <td>20.926457</td>\n",
       "    </tr>\n",
       "    <tr>\n",
       "      <th>1</th>\n",
       "      <td>Taurine</td>\n",
       "      <td>30.845868</td>\n",
       "      <td>30.981490</td>\n",
       "      <td>30.743893</td>\n",
       "      <td>30.732476</td>\n",
       "      <td>30.657667</td>\n",
       "      <td>30.583823</td>\n",
       "      <td>30.606162</td>\n",
       "      <td>30.307721</td>\n",
       "      <td>30.572055</td>\n",
       "      <td>30.415305</td>\n",
       "      <td>30.338153</td>\n",
       "      <td>30.931592</td>\n",
       "      <td>30.934750</td>\n",
       "      <td>30.867738</td>\n",
       "      <td>30.901016</td>\n",
       "    </tr>\n",
       "    <tr>\n",
       "      <th>2</th>\n",
       "      <td>Glycerol_3-phosphate</td>\n",
       "      <td>25.017626</td>\n",
       "      <td>25.161503</td>\n",
       "      <td>25.208658</td>\n",
       "      <td>25.031007</td>\n",
       "      <td>24.386826</td>\n",
       "      <td>24.454650</td>\n",
       "      <td>24.577282</td>\n",
       "      <td>24.509804</td>\n",
       "      <td>24.844570</td>\n",
       "      <td>24.950536</td>\n",
       "      <td>24.850067</td>\n",
       "      <td>24.887832</td>\n",
       "      <td>25.179714</td>\n",
       "      <td>24.984191</td>\n",
       "      <td>25.022325</td>\n",
       "    </tr>\n",
       "    <tr>\n",
       "      <th>3</th>\n",
       "      <td>L-erythrulose</td>\n",
       "      <td>22.047345</td>\n",
       "      <td>21.965742</td>\n",
       "      <td>21.846909</td>\n",
       "      <td>21.961859</td>\n",
       "      <td>21.683994</td>\n",
       "      <td>22.153192</td>\n",
       "      <td>21.271786</td>\n",
       "      <td>21.379100</td>\n",
       "      <td>20.724603</td>\n",
       "      <td>20.118355</td>\n",
       "      <td>20.761125</td>\n",
       "      <td>19.359610</td>\n",
       "      <td>19.191332</td>\n",
       "      <td>18.859719</td>\n",
       "      <td>18.940066</td>\n",
       "    </tr>\n",
       "    <tr>\n",
       "      <th>4</th>\n",
       "      <td>L-threonate</td>\n",
       "      <td>27.569646</td>\n",
       "      <td>27.631332</td>\n",
       "      <td>27.461473</td>\n",
       "      <td>27.431546</td>\n",
       "      <td>27.903497</td>\n",
       "      <td>28.106822</td>\n",
       "      <td>27.739086</td>\n",
       "      <td>27.632106</td>\n",
       "      <td>27.302465</td>\n",
       "      <td>27.100084</td>\n",
       "      <td>27.174514</td>\n",
       "      <td>26.440775</td>\n",
       "      <td>26.435438</td>\n",
       "      <td>26.430759</td>\n",
       "      <td>26.471548</td>\n",
       "    </tr>\n",
       "  </tbody>\n",
       "</table>\n",
       "</div>"
      ],
      "text/plain": [
       "             metabolite  II_SC_1_Tcells  II_SC_2_Tcells  II_SC_3_Tcells  \\\n",
       "0           Hypotaurine       21.351001       21.499492       21.393333   \n",
       "1               Taurine       30.845868       30.981490       30.743893   \n",
       "2  Glycerol_3-phosphate       25.017626       25.161503       25.208658   \n",
       "3         L-erythrulose       22.047345       21.965742       21.846909   \n",
       "4           L-threonate       27.569646       27.631332       27.461473   \n",
       "\n",
       "   II_SC_4_Tcells  II_SC_6_Tfhcells  II_SC_7_Tfhcells  II_SC_8_Tfhcells  \\\n",
       "0       21.235683         21.291045         21.168247         21.221216   \n",
       "1       30.732476         30.657667         30.583823         30.606162   \n",
       "2       25.031007         24.386826         24.454650         24.577282   \n",
       "3       21.961859         21.683994         22.153192         21.271786   \n",
       "4       27.431546         27.903497         28.106822         27.739086   \n",
       "\n",
       "   II_SC_9_Th1cells  II_SC_10_Th1cells  II_SC_11_Th1cells  II_SC_12_Th1cells  \\\n",
       "0         20.466707          20.717077          20.614874          20.533659   \n",
       "1         30.307721          30.572055          30.415305          30.338153   \n",
       "2         24.509804          24.844570          24.950536          24.850067   \n",
       "3         21.379100          20.724603          20.118355          20.761125   \n",
       "4         27.632106          27.302465          27.100084          27.174514   \n",
       "\n",
       "   II_SC_13_Th17cells  II_SC_14_Th17cells  II_SC_15_Th17cells  \\\n",
       "0           21.023483           21.019268           20.921813   \n",
       "1           30.931592           30.934750           30.867738   \n",
       "2           24.887832           25.179714           24.984191   \n",
       "3           19.359610           19.191332           18.859719   \n",
       "4           26.440775           26.435438           26.430759   \n",
       "\n",
       "   II_SC_16_Th17cells  \n",
       "0           20.926457  \n",
       "1           30.901016  \n",
       "2           25.022325  \n",
       "3           18.940066  \n",
       "4           26.471548  "
      ]
     },
     "execution_count": 7,
     "metadata": {},
     "output_type": "execute_result"
    }
   ],
   "source": [
    "raw_df.columns = [\"metabolite\"] + raw_df.columns[1:].tolist();raw_df[0:5]"
   ]
  },
  {
   "cell_type": "code",
   "execution_count": 8,
   "metadata": {
    "scrolled": true
   },
   "outputs": [
    {
     "data": {
      "text/html": [
       "<div>\n",
       "<style scoped>\n",
       "    .dataframe tbody tr th:only-of-type {\n",
       "        vertical-align: middle;\n",
       "    }\n",
       "\n",
       "    .dataframe tbody tr th {\n",
       "        vertical-align: top;\n",
       "    }\n",
       "\n",
       "    .dataframe thead th {\n",
       "        text-align: right;\n",
       "    }\n",
       "</style>\n",
       "<table border=\"1\" class=\"dataframe\">\n",
       "  <thead>\n",
       "    <tr style=\"text-align: right;\">\n",
       "      <th></th>\n",
       "      <th>metabolite</th>\n",
       "      <th>ttest_pval_TactvsTfh</th>\n",
       "      <th>ttest_tscore__TactvsTfh</th>\n",
       "      <th>padj_lim_ttest_tscore__TactvsTfh</th>\n",
       "      <th>ttest_pval_Th17vsTfh</th>\n",
       "      <th>ttest_tscore__Th17vsTfh</th>\n",
       "      <th>padj_lim_ttest_tscore__Th17vsTfh</th>\n",
       "      <th>ttest_pval_Th1vsTfh</th>\n",
       "      <th>ttest_tscore__Th1vsTfh</th>\n",
       "      <th>padj_lim_ttest_tscore__Th1vsTfh</th>\n",
       "    </tr>\n",
       "  </thead>\n",
       "  <tbody>\n",
       "    <tr>\n",
       "      <th>0</th>\n",
       "      <td>Hypotaurine</td>\n",
       "      <td>0.100325</td>\n",
       "      <td>2.012502</td>\n",
       "      <td>0.240009</td>\n",
       "      <td>0.002329</td>\n",
       "      <td>-5.694771</td>\n",
       "      <td>0.005487</td>\n",
       "      <td>0.000263</td>\n",
       "      <td>-9.138163</td>\n",
       "      <td>0.003145</td>\n",
       "    </tr>\n",
       "    <tr>\n",
       "      <th>1</th>\n",
       "      <td>Taurine</td>\n",
       "      <td>0.031227</td>\n",
       "      <td>2.968059</td>\n",
       "      <td>0.102227</td>\n",
       "      <td>0.000097</td>\n",
       "      <td>11.251916</td>\n",
       "      <td>0.000418</td>\n",
       "      <td>0.034906</td>\n",
       "      <td>-2.872163</td>\n",
       "      <td>0.079564</td>\n",
       "    </tr>\n",
       "    <tr>\n",
       "      <th>2</th>\n",
       "      <td>Glycerol_3-phosphate</td>\n",
       "      <td>0.000340</td>\n",
       "      <td>8.653883</td>\n",
       "      <td>0.004072</td>\n",
       "      <td>0.001411</td>\n",
       "      <td>6.369358</td>\n",
       "      <td>0.003510</td>\n",
       "      <td>0.050068</td>\n",
       "      <td>2.569455</td>\n",
       "      <td>0.099186</td>\n",
       "    </tr>\n",
       "    <tr>\n",
       "      <th>3</th>\n",
       "      <td>L-erythrulose</td>\n",
       "      <td>0.300176</td>\n",
       "      <td>1.155295</td>\n",
       "      <td>0.496568</td>\n",
       "      <td>0.000145</td>\n",
       "      <td>-10.348731</td>\n",
       "      <td>0.000538</td>\n",
       "      <td>0.049734</td>\n",
       "      <td>-2.574981</td>\n",
       "      <td>0.099186</td>\n",
       "    </tr>\n",
       "    <tr>\n",
       "      <th>4</th>\n",
       "      <td>L-threonate</td>\n",
       "      <td>0.013240</td>\n",
       "      <td>-3.753947</td>\n",
       "      <td>0.057349</td>\n",
       "      <td>0.000015</td>\n",
       "      <td>-16.418299</td>\n",
       "      <td>0.000113</td>\n",
       "      <td>0.013737</td>\n",
       "      <td>-3.718273</td>\n",
       "      <td>0.042721</td>\n",
       "    </tr>\n",
       "  </tbody>\n",
       "</table>\n",
       "</div>"
      ],
      "text/plain": [
       "             metabolite  ttest_pval_TactvsTfh  ttest_tscore__TactvsTfh  \\\n",
       "0           Hypotaurine              0.100325                 2.012502   \n",
       "1               Taurine              0.031227                 2.968059   \n",
       "2  Glycerol_3-phosphate              0.000340                 8.653883   \n",
       "3         L-erythrulose              0.300176                 1.155295   \n",
       "4           L-threonate              0.013240                -3.753947   \n",
       "\n",
       "   padj_lim_ttest_tscore__TactvsTfh  ttest_pval_Th17vsTfh  \\\n",
       "0                          0.240009              0.002329   \n",
       "1                          0.102227              0.000097   \n",
       "2                          0.004072              0.001411   \n",
       "3                          0.496568              0.000145   \n",
       "4                          0.057349              0.000015   \n",
       "\n",
       "   ttest_tscore__Th17vsTfh  padj_lim_ttest_tscore__Th17vsTfh  \\\n",
       "0                -5.694771                          0.005487   \n",
       "1                11.251916                          0.000418   \n",
       "2                 6.369358                          0.003510   \n",
       "3               -10.348731                          0.000538   \n",
       "4               -16.418299                          0.000113   \n",
       "\n",
       "   ttest_pval_Th1vsTfh  ttest_tscore__Th1vsTfh  \\\n",
       "0             0.000263               -9.138163   \n",
       "1             0.034906               -2.872163   \n",
       "2             0.050068                2.569455   \n",
       "3             0.049734               -2.574981   \n",
       "4             0.013737               -3.718273   \n",
       "\n",
       "   padj_lim_ttest_tscore__Th1vsTfh  \n",
       "0                         0.003145  \n",
       "1                         0.079564  \n",
       "2                         0.099186  \n",
       "3                         0.099186  \n",
       "4                         0.042721  "
      ]
     },
     "execution_count": 8,
     "metadata": {},
     "output_type": "execute_result"
    }
   ],
   "source": [
    "m_ttest_df = pd.read_csv(\"./python_pairwise_t_test/merged_ttest_padj_on_annot.csv\")\n",
    "m_ttest_df[0:5]"
   ]
  },
  {
   "cell_type": "code",
   "execution_count": 15,
   "metadata": {
    "scrolled": true
   },
   "outputs": [
    {
     "data": {
      "text/html": [
       "<div>\n",
       "<style scoped>\n",
       "    .dataframe tbody tr th:only-of-type {\n",
       "        vertical-align: middle;\n",
       "    }\n",
       "\n",
       "    .dataframe tbody tr th {\n",
       "        vertical-align: top;\n",
       "    }\n",
       "\n",
       "    .dataframe thead th {\n",
       "        text-align: right;\n",
       "    }\n",
       "</style>\n",
       "<table border=\"1\" class=\"dataframe\">\n",
       "  <thead>\n",
       "    <tr style=\"text-align: right;\">\n",
       "      <th></th>\n",
       "      <th>metabolite</th>\n",
       "      <th>ftest_pval</th>\n",
       "      <th>ftest_fscore</th>\n",
       "      <th>padj_lim_ftest_fscore</th>\n",
       "    </tr>\n",
       "  </thead>\n",
       "  <tbody>\n",
       "    <tr>\n",
       "      <th>0</th>\n",
       "      <td>Hypotaurine</td>\n",
       "      <td>4.940000e-07</td>\n",
       "      <td>58.098850</td>\n",
       "      <td>0.000002</td>\n",
       "    </tr>\n",
       "    <tr>\n",
       "      <th>1</th>\n",
       "      <td>Taurine</td>\n",
       "      <td>3.250000e-05</td>\n",
       "      <td>25.020255</td>\n",
       "      <td>0.000076</td>\n",
       "    </tr>\n",
       "    <tr>\n",
       "      <th>2</th>\n",
       "      <td>Glycerol_3-phosphate</td>\n",
       "      <td>3.587640e-04</td>\n",
       "      <td>14.753757</td>\n",
       "      <td>0.000685</td>\n",
       "    </tr>\n",
       "    <tr>\n",
       "      <th>3</th>\n",
       "      <td>L-erythrulose</td>\n",
       "      <td>8.300000e-07</td>\n",
       "      <td>52.507195</td>\n",
       "      <td>0.000003</td>\n",
       "    </tr>\n",
       "    <tr>\n",
       "      <th>4</th>\n",
       "      <td>L-threonate</td>\n",
       "      <td>4.360000e-07</td>\n",
       "      <td>59.534280</td>\n",
       "      <td>0.000002</td>\n",
       "    </tr>\n",
       "  </tbody>\n",
       "</table>\n",
       "</div>"
      ],
      "text/plain": [
       "             metabolite    ftest_pval  ftest_fscore  padj_lim_ftest_fscore\n",
       "0           Hypotaurine  4.940000e-07     58.098850               0.000002\n",
       "1               Taurine  3.250000e-05     25.020255               0.000076\n",
       "2  Glycerol_3-phosphate  3.587640e-04     14.753757               0.000685\n",
       "3         L-erythrulose  8.300000e-07     52.507195               0.000003\n",
       "4           L-threonate  4.360000e-07     59.534280               0.000002"
      ]
     },
     "execution_count": 15,
     "metadata": {},
     "output_type": "execute_result"
    }
   ],
   "source": [
    "oneway_ftest_df = pd.read_csv(\"./python_one_way_ANOVA/padj_on_all_ftest4_TcellsvsTfhcellsvsTh1cellsvsTh17cells_clean.txt\", sep = \"\\t\")\n",
    "oneway_ftest_df[0:5]"
   ]
  },
  {
   "cell_type": "code",
   "execution_count": 19,
   "metadata": {
    "scrolled": true
   },
   "outputs": [],
   "source": [
    "temp = pd.merge(raw_df,m_ttest_df,on = \"metabolite\")\n",
    "ful_merged_df = pd.merge(temp,oneway_ftest_df,on = \"metabolite\")"
   ]
  },
  {
   "cell_type": "code",
   "execution_count": 20,
   "metadata": {
    "scrolled": true
   },
   "outputs": [
    {
     "data": {
      "text/plain": [
       "Index(['metabolite', 'II_SC_1_Tcells', 'II_SC_2_Tcells', 'II_SC_3_Tcells',\n",
       "       'II_SC_4_Tcells', 'II_SC_6_Tfhcells', 'II_SC_7_Tfhcells',\n",
       "       'II_SC_8_Tfhcells', 'II_SC_9_Th1cells', 'II_SC_10_Th1cells',\n",
       "       'II_SC_11_Th1cells', 'II_SC_12_Th1cells', 'II_SC_13_Th17cells',\n",
       "       'II_SC_14_Th17cells', 'II_SC_15_Th17cells', 'II_SC_16_Th17cells',\n",
       "       'ttest_pval_TactvsTfh', 'ttest_tscore__TactvsTfh',\n",
       "       'padj_lim_ttest_tscore__TactvsTfh', 'ttest_pval_Th17vsTfh',\n",
       "       'ttest_tscore__Th17vsTfh', 'padj_lim_ttest_tscore__Th17vsTfh',\n",
       "       'ttest_pval_Th1vsTfh', 'ttest_tscore__Th1vsTfh',\n",
       "       'padj_lim_ttest_tscore__Th1vsTfh', 'ftest_pval', 'ftest_fscore',\n",
       "       'padj_lim_ftest_fscore'],\n",
       "      dtype='object')"
      ]
     },
     "execution_count": 20,
     "metadata": {},
     "output_type": "execute_result"
    }
   ],
   "source": [
    "ful_merged_df.columns"
   ]
  },
  {
   "cell_type": "code",
   "execution_count": 21,
   "metadata": {},
   "outputs": [],
   "source": [
    "ful_merged_df.to_csv(\"m_data_stat_table.csv\",index= False)"
   ]
  },
  {
   "cell_type": "markdown",
   "metadata": {},
   "source": [
    "----------"
   ]
  },
  {
   "cell_type": "code",
   "execution_count": 45,
   "metadata": {
    "scrolled": false
   },
   "outputs": [],
   "source": [
    "#encoding='latin-1'\n",
    "annot_df = pd.read_csv(\"../X1_Raw_data/annot_Jeff-SC1-16_20160404 Tfh metabolomics_clean.csv\", encoding='latin-1')"
   ]
  },
  {
   "cell_type": "code",
   "execution_count": 46,
   "metadata": {},
   "outputs": [],
   "source": [
    "annot_ful_merged_df = pd.merge(annot_df,ful_merged_df, on = \"metabolite\")"
   ]
  },
  {
   "cell_type": "code",
   "execution_count": 47,
   "metadata": {},
   "outputs": [],
   "source": [
    "annot_ful_merged_df.to_csv(\"m_annot_data_stat_table.csv\",index=False)"
   ]
  },
  {
   "cell_type": "markdown",
   "metadata": {},
   "source": [
    "------------"
   ]
  },
  {
   "cell_type": "markdown",
   "metadata": {},
   "source": [
    "------------"
   ]
  },
  {
   "cell_type": "markdown",
   "metadata": {},
   "source": [
    "# on all metabolites"
   ]
  },
  {
   "cell_type": "code",
   "execution_count": 1,
   "metadata": {},
   "outputs": [],
   "source": [
    "import pandas as pd"
   ]
  },
  {
   "cell_type": "code",
   "execution_count": 2,
   "metadata": {},
   "outputs": [
    {
     "data": {
      "text/html": [
       "<div>\n",
       "<style scoped>\n",
       "    .dataframe tbody tr th:only-of-type {\n",
       "        vertical-align: middle;\n",
       "    }\n",
       "\n",
       "    .dataframe tbody tr th {\n",
       "        vertical-align: top;\n",
       "    }\n",
       "\n",
       "    .dataframe thead th {\n",
       "        text-align: right;\n",
       "    }\n",
       "</style>\n",
       "<table border=\"1\" class=\"dataframe\">\n",
       "  <thead>\n",
       "    <tr style=\"text-align: right;\">\n",
       "      <th></th>\n",
       "      <th>MID</th>\n",
       "      <th>ttest_pval_B6_TFHvsB6_TN</th>\n",
       "      <th>ttest_tscore__B6_TFHvsB6_TN</th>\n",
       "      <th>padj_lim_ttest_tscore__B6_TFHvsB6_TN</th>\n",
       "      <th>ttest_pval_TC_TFHvsB6_TFH</th>\n",
       "      <th>ttest_tscore__TC_TFHvsB6_TFH</th>\n",
       "      <th>padj_lim_ttest_tscore__TC_TFHvsB6_TFH</th>\n",
       "      <th>ttest_pval_TC_TFHvsTC_TN</th>\n",
       "      <th>ttest_tscore__TC_TFHvsTC_TN</th>\n",
       "      <th>padj_lim_ttest_tscore__TC_TFHvsTC_TN</th>\n",
       "      <th>ttest_pval_TC_TNvsB6_TN</th>\n",
       "      <th>ttest_tscore__TC_TNvsB6_TN</th>\n",
       "      <th>padj_lim_ttest_tscore__TC_TNvsB6_TN</th>\n",
       "    </tr>\n",
       "  </thead>\n",
       "  <tbody>\n",
       "    <tr>\n",
       "      <th>0</th>\n",
       "      <td>MID_1</td>\n",
       "      <td>0.130211</td>\n",
       "      <td>1.648771</td>\n",
       "      <td>0.594748</td>\n",
       "      <td>0.514164</td>\n",
       "      <td>-0.679090</td>\n",
       "      <td>0.873783</td>\n",
       "      <td>0.473499</td>\n",
       "      <td>0.752166</td>\n",
       "      <td>0.916433</td>\n",
       "      <td>0.780556</td>\n",
       "      <td>-0.287073</td>\n",
       "      <td>0.932305</td>\n",
       "    </tr>\n",
       "    <tr>\n",
       "      <th>1</th>\n",
       "      <td>MID_2</td>\n",
       "      <td>0.000081</td>\n",
       "      <td>6.373784</td>\n",
       "      <td>0.006845</td>\n",
       "      <td>0.077395</td>\n",
       "      <td>-1.993213</td>\n",
       "      <td>0.595188</td>\n",
       "      <td>0.010973</td>\n",
       "      <td>3.293009</td>\n",
       "      <td>0.216477</td>\n",
       "      <td>0.085868</td>\n",
       "      <td>-1.928577</td>\n",
       "      <td>0.467041</td>\n",
       "    </tr>\n",
       "    <tr>\n",
       "      <th>2</th>\n",
       "      <td>MID_3</td>\n",
       "      <td>0.547808</td>\n",
       "      <td>0.622082</td>\n",
       "      <td>0.951627</td>\n",
       "      <td>0.238963</td>\n",
       "      <td>-1.261151</td>\n",
       "      <td>0.784170</td>\n",
       "      <td>0.568936</td>\n",
       "      <td>0.593982</td>\n",
       "      <td>0.916433</td>\n",
       "      <td>0.480649</td>\n",
       "      <td>-0.735695</td>\n",
       "      <td>0.748661</td>\n",
       "    </tr>\n",
       "    <tr>\n",
       "      <th>3</th>\n",
       "      <td>MID_4</td>\n",
       "      <td>0.008617</td>\n",
       "      <td>-3.257064</td>\n",
       "      <td>0.132386</td>\n",
       "      <td>0.823690</td>\n",
       "      <td>0.229395</td>\n",
       "      <td>0.938577</td>\n",
       "      <td>0.011217</td>\n",
       "      <td>-3.278246</td>\n",
       "      <td>0.216477</td>\n",
       "      <td>0.996630</td>\n",
       "      <td>0.004343</td>\n",
       "      <td>0.996893</td>\n",
       "    </tr>\n",
       "    <tr>\n",
       "      <th>4</th>\n",
       "      <td>MID_5</td>\n",
       "      <td>0.506764</td>\n",
       "      <td>-0.688552</td>\n",
       "      <td>0.945946</td>\n",
       "      <td>0.014100</td>\n",
       "      <td>3.036409</td>\n",
       "      <td>0.418042</td>\n",
       "      <td>0.017764</td>\n",
       "      <td>2.973949</td>\n",
       "      <td>0.240165</td>\n",
       "      <td>0.479104</td>\n",
       "      <td>-0.738364</td>\n",
       "      <td>0.748661</td>\n",
       "    </tr>\n",
       "  </tbody>\n",
       "</table>\n",
       "</div>"
      ],
      "text/plain": [
       "     MID  ttest_pval_B6_TFHvsB6_TN  ttest_tscore__B6_TFHvsB6_TN  \\\n",
       "0  MID_1                  0.130211                     1.648771   \n",
       "1  MID_2                  0.000081                     6.373784   \n",
       "2  MID_3                  0.547808                     0.622082   \n",
       "3  MID_4                  0.008617                    -3.257064   \n",
       "4  MID_5                  0.506764                    -0.688552   \n",
       "\n",
       "   padj_lim_ttest_tscore__B6_TFHvsB6_TN  ttest_pval_TC_TFHvsB6_TFH  \\\n",
       "0                              0.594748                   0.514164   \n",
       "1                              0.006845                   0.077395   \n",
       "2                              0.951627                   0.238963   \n",
       "3                              0.132386                   0.823690   \n",
       "4                              0.945946                   0.014100   \n",
       "\n",
       "   ttest_tscore__TC_TFHvsB6_TFH  padj_lim_ttest_tscore__TC_TFHvsB6_TFH  \\\n",
       "0                     -0.679090                               0.873783   \n",
       "1                     -1.993213                               0.595188   \n",
       "2                     -1.261151                               0.784170   \n",
       "3                      0.229395                               0.938577   \n",
       "4                      3.036409                               0.418042   \n",
       "\n",
       "   ttest_pval_TC_TFHvsTC_TN  ttest_tscore__TC_TFHvsTC_TN  \\\n",
       "0                  0.473499                     0.752166   \n",
       "1                  0.010973                     3.293009   \n",
       "2                  0.568936                     0.593982   \n",
       "3                  0.011217                    -3.278246   \n",
       "4                  0.017764                     2.973949   \n",
       "\n",
       "   padj_lim_ttest_tscore__TC_TFHvsTC_TN  ttest_pval_TC_TNvsB6_TN  \\\n",
       "0                              0.916433                 0.780556   \n",
       "1                              0.216477                 0.085868   \n",
       "2                              0.916433                 0.480649   \n",
       "3                              0.216477                 0.996630   \n",
       "4                              0.240165                 0.479104   \n",
       "\n",
       "   ttest_tscore__TC_TNvsB6_TN  padj_lim_ttest_tscore__TC_TNvsB6_TN  \n",
       "0                   -0.287073                             0.932305  \n",
       "1                   -1.928577                             0.467041  \n",
       "2                   -0.735695                             0.748661  \n",
       "3                    0.004343                             0.996893  \n",
       "4                   -0.738364                             0.748661  "
      ]
     },
     "execution_count": 2,
     "metadata": {},
     "output_type": "execute_result"
    }
   ],
   "source": [
    "m_ttest_df = pd.read_csv(\"python_pairwise_t_test/merged_ttest_padj_on_all.csv\")\n",
    "m_ttest_df[0:5]"
   ]
  },
  {
   "cell_type": "code",
   "execution_count": 3,
   "metadata": {},
   "outputs": [
    {
     "data": {
      "text/html": [
       "<div>\n",
       "<style scoped>\n",
       "    .dataframe tbody tr th:only-of-type {\n",
       "        vertical-align: middle;\n",
       "    }\n",
       "\n",
       "    .dataframe tbody tr th {\n",
       "        vertical-align: top;\n",
       "    }\n",
       "\n",
       "    .dataframe thead th {\n",
       "        text-align: right;\n",
       "    }\n",
       "</style>\n",
       "<table border=\"1\" class=\"dataframe\">\n",
       "  <thead>\n",
       "    <tr style=\"text-align: right;\">\n",
       "      <th></th>\n",
       "      <th>MID</th>\n",
       "      <th>ftest_pval</th>\n",
       "      <th>ftest_fscore</th>\n",
       "      <th>padj_lim_ftest_fscore</th>\n",
       "    </tr>\n",
       "  </thead>\n",
       "  <tbody>\n",
       "    <tr>\n",
       "      <th>0</th>\n",
       "      <td>MID_1</td>\n",
       "      <td>0.352122</td>\n",
       "      <td>1.160543</td>\n",
       "      <td>0.629721</td>\n",
       "    </tr>\n",
       "    <tr>\n",
       "      <th>1</th>\n",
       "      <td>MID_2</td>\n",
       "      <td>0.000071</td>\n",
       "      <td>13.584777</td>\n",
       "      <td>0.002643</td>\n",
       "    </tr>\n",
       "    <tr>\n",
       "      <th>2</th>\n",
       "      <td>MID_3</td>\n",
       "      <td>0.522582</td>\n",
       "      <td>0.775905</td>\n",
       "      <td>0.772756</td>\n",
       "    </tr>\n",
       "    <tr>\n",
       "      <th>3</th>\n",
       "      <td>MID_4</td>\n",
       "      <td>0.002590</td>\n",
       "      <td>6.982106</td>\n",
       "      <td>0.040230</td>\n",
       "    </tr>\n",
       "    <tr>\n",
       "      <th>4</th>\n",
       "      <td>MID_5</td>\n",
       "      <td>0.048171</td>\n",
       "      <td>3.201244</td>\n",
       "      <td>0.262612</td>\n",
       "    </tr>\n",
       "  </tbody>\n",
       "</table>\n",
       "</div>"
      ],
      "text/plain": [
       "     MID  ftest_pval  ftest_fscore  padj_lim_ftest_fscore\n",
       "0  MID_1    0.352122      1.160543               0.629721\n",
       "1  MID_2    0.000071     13.584777               0.002643\n",
       "2  MID_3    0.522582      0.775905               0.772756\n",
       "3  MID_4    0.002590      6.982106               0.040230\n",
       "4  MID_5    0.048171      3.201244               0.262612"
      ]
     },
     "execution_count": 3,
     "metadata": {},
     "output_type": "execute_result"
    }
   ],
   "source": [
    "oneway_ftest_df = pd.read_csv(\"python_one_way_ANOVA/padj_on_all_ftest4_B6_TFHvsB6_TNvsTC_TFHvsTC_TN.txt\", sep = \"\\t\")\n",
    "oneway_ftest_df[0:5]"
   ]
  },
  {
   "cell_type": "code",
   "execution_count": 4,
   "metadata": {},
   "outputs": [],
   "source": [
    "twoway_ftest_df = pd.read_csv(\"python_two way_ANOVA_interaction/padj_on_all_2wayAnova.csv\")"
   ]
  },
  {
   "cell_type": "code",
   "execution_count": 5,
   "metadata": {
    "scrolled": true
   },
   "outputs": [
    {
     "data": {
      "text/plain": [
       "Index(['MID', 'B6.1.TFH_007', 'B6.2.TFH_008', 'B6.4.TFH_009', 'B6.6.TFH_010',\n",
       "       'B6.7.TFH_011', 'B6.8.TFH_012', 'B6.1.TN_001', 'B6.2.TN_002',\n",
       "       'B6.4.TN_003', 'B6.6.TN_004', 'B6.7.TN_005', 'B6.8.TN_006',\n",
       "       'TC.1.TFH_018', 'TC.2.TFH_019', 'TC.3.TFH_020', 'TC.4.TFH_021',\n",
       "       'TC.5.TFH_022', 'TC.1.TN_013', 'TC.2.TN_014', 'TC.3.TN_015',\n",
       "       'TC.4.TN_016', 'TC.5.TN_017', 'pool.1', 'pool.2', 'X2wayAnova_pval',\n",
       "       'padj_lim_X2wayAnova_pval'],\n",
       "      dtype='object')"
      ]
     },
     "execution_count": 5,
     "metadata": {},
     "output_type": "execute_result"
    }
   ],
   "source": [
    "twoway_ftest_df.columns"
   ]
  },
  {
   "cell_type": "code",
   "execution_count": 6,
   "metadata": {},
   "outputs": [
    {
     "data": {
      "text/plain": [
       "(338, 27)"
      ]
     },
     "execution_count": 6,
     "metadata": {},
     "output_type": "execute_result"
    }
   ],
   "source": [
    "twoway_ftest_df.shape"
   ]
  },
  {
   "cell_type": "code",
   "execution_count": 8,
   "metadata": {},
   "outputs": [],
   "source": [
    "twoway_ftest_df.index = twoway_ftest_df['MID']"
   ]
  },
  {
   "cell_type": "code",
   "execution_count": 9,
   "metadata": {},
   "outputs": [],
   "source": [
    "ful_merged_df = pd.merge(pd.merge(pd.merge(raw_data,m_ttest_df,on = \"MID\"),oneway_ftest_df, on = \"MID\"), twoway_ftest_df, left_on = \"MID\",right_index = True)"
   ]
  },
  {
   "cell_type": "code",
   "execution_count": 10,
   "metadata": {},
   "outputs": [],
   "source": [
    "ful_merged_df.to_csv(\"padjall_m_data_stat_table.csv\",index= False)"
   ]
  },
  {
   "cell_type": "markdown",
   "metadata": {},
   "source": [
    "----------"
   ]
  },
  {
   "cell_type": "code",
   "execution_count": 11,
   "metadata": {},
   "outputs": [],
   "source": [
    "annot_df = pd.read_csv(\"../X0_raw_data/metadata1_annotation.csv\")"
   ]
  },
  {
   "cell_type": "code",
   "execution_count": 12,
   "metadata": {},
   "outputs": [],
   "source": [
    "annot_ful_merged_df = pd.merge(annot_df,ful_merged_df, on = \"MID\")"
   ]
  },
  {
   "cell_type": "code",
   "execution_count": 13,
   "metadata": {},
   "outputs": [],
   "source": [
    "annot_ful_merged_df.to_csv(\"padjall_m_annot_data_stat_table.csv\",index=False)"
   ]
  }
 ],
 "metadata": {
  "kernelspec": {
   "display_name": "Python 3",
   "language": "python",
   "name": "python3"
  },
  "language_info": {
   "codemirror_mode": {
    "name": "ipython",
    "version": 3
   },
   "file_extension": ".py",
   "mimetype": "text/x-python",
   "name": "python",
   "nbconvert_exporter": "python",
   "pygments_lexer": "ipython3",
   "version": "3.6.5"
  }
 },
 "nbformat": 4,
 "nbformat_minor": 2
}
