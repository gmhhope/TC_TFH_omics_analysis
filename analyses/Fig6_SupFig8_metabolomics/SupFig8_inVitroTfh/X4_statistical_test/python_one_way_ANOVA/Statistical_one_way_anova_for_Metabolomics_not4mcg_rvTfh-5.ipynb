{
 "cells": [
  {
   "cell_type": "code",
   "execution_count": 9,
   "metadata": {},
   "outputs": [],
   "source": [
    "%matplotlib inline"
   ]
  },
  {
   "cell_type": "code",
   "execution_count": 10,
   "metadata": {},
   "outputs": [],
   "source": [
    "import numpy as np\n",
    "from mpl_toolkits.mplot3d import Axes3D\n",
    "from sklearn.decomposition import PCA\n",
    "import pylab as pl\n",
    "import pandas as pd\n",
    "import matplotlib.pyplot as plt\n",
    "from scipy import stats\n",
    "import math\n",
    "import re #using regex"
   ]
  },
  {
   "cell_type": "code",
   "execution_count": 11,
   "metadata": {
    "scrolled": false
   },
   "outputs": [],
   "source": [
    "#df = pd.read_csv(\"../../X0_raw_data/log2_tab.csv\")\n",
    "#df.columns\n",
    "#renamed_col = [x.split(\"-\")[0]+\"_\"+x.split(\" \")[1].split(\"_\")[0]+\n",
    "# \"_\"+ x.split(\"-\")[1].split(\" \")[0] for x in df.columns if \"B6\" in x or \"TC\" in x]\n",
    "#df.columns = [\"MID\"] + renamed_col + ['pool 1', 'pool 2'] \n",
    "\n",
    "#df.to_csv(\"../../X0_raw_data/log2_tab_renamed.csv\", index = False)"
   ]
  },
  {
   "cell_type": "code",
   "execution_count": 12,
   "metadata": {
    "scrolled": true
   },
   "outputs": [],
   "source": [
    "df = pd.read_csv(\"../../X2_log2transform/Jeff-featab_rmTfh5_log2.csv\")"
   ]
  },
  {
   "cell_type": "code",
   "execution_count": 13,
   "metadata": {},
   "outputs": [],
   "source": [
    "df.columns = [\"Metabolite\"] + df.columns[1:].tolist()"
   ]
  },
  {
   "cell_type": "code",
   "execution_count": 14,
   "metadata": {},
   "outputs": [
    {
     "data": {
      "text/plain": [
       "Index(['Metabolite', 'II_SC_1_Tcells', 'II_SC_2_Tcells', 'II_SC_3_Tcells',\n",
       "       'II_SC_4_Tcells', 'II_SC_6_Tfhcells', 'II_SC_7_Tfhcells',\n",
       "       'II_SC_8_Tfhcells', 'II_SC_9_Th1cells', 'II_SC_10_Th1cells',\n",
       "       'II_SC_11_Th1cells', 'II_SC_12_Th1cells', 'II_SC_13_Th17cells',\n",
       "       'II_SC_14_Th17cells', 'II_SC_15_Th17cells', 'II_SC_16_Th17cells'],\n",
       "      dtype='object')"
      ]
     },
     "execution_count": 14,
     "metadata": {},
     "output_type": "execute_result"
    }
   ],
   "source": [
    "df.columns"
   ]
  },
  {
   "cell_type": "code",
   "execution_count": 15,
   "metadata": {},
   "outputs": [],
   "source": [
    "#Set your Exp_id & condition\n",
    "Exp_id = \"\"\n",
    "cond = [\"Tcells\",\"Tfhcells\",\"Th1cells\",\"Th17cells\"]"
   ]
  },
  {
   "cell_type": "code",
   "execution_count": 18,
   "metadata": {
    "scrolled": false
   },
   "outputs": [
    {
     "data": {
      "text/plain": [
       "['II_SC_6_Tfhcells', 'II_SC_7_Tfhcells', 'II_SC_8_Tfhcells']"
      ]
     },
     "execution_count": 18,
     "metadata": {},
     "output_type": "execute_result"
    }
   ],
   "source": [
    "[x for x in df.columns if Exp_id in x and re.search(cond[1], x)] #using regex"
   ]
  },
  {
   "cell_type": "code",
   "execution_count": 19,
   "metadata": {},
   "outputs": [],
   "source": [
    "res_df = pd.DataFrame(df.iloc[:,0])\n",
    "\n",
    "for i in range(df.shape[0]):\n",
    "    try:\n",
    "        f,p = stats.f_oneway( [float(x) for x in (df.loc[i,[x for x in df.columns if re.search(cond[0], x)]])], \n",
    "                              [float(x) for x in (df.loc[i,[x for x in df.columns if  re.search(cond[1], x)]])],\n",
    "                              [float(x) for x in (df.loc[i,[x for x in df.columns if  re.search(cond[2], x)]])],\n",
    "                              [float(x) for x in (df.loc[i,[x for x in df.columns if  re.search(cond[3], x)]])])\n",
    "        if math.isnan(p) is True:\n",
    "            res_df.loc[i,\"ftest_pval\" ] = 1\n",
    "            res_df.loc[i,\"ftest_fscore\"] = 0\n",
    "        else:\n",
    "            res_df.loc[i,\"ftest_pval\" ] = p\n",
    "            res_df.loc[i,\"ftest_fscore\"] = f\n",
    "    except Exception as e:\n",
    "        print(e)\n",
    "        res_df.loc[i,\"ftest_pval\"] = 1\n",
    "        res_df.loc[i,\"ftest_fscore\"] = 0"
   ]
  },
  {
   "cell_type": "code",
   "execution_count": 20,
   "metadata": {},
   "outputs": [],
   "source": [
    "res_df.to_csv(\"ftest4\" + Exp_id + \"_\" + \"vs\".join([x.replace(\".*\",\"_\") for x in cond]) + \".txt\", sep='\\t', index = None)"
   ]
  },
  {
   "cell_type": "markdown",
   "metadata": {},
   "source": [
    "-----------"
   ]
  },
  {
   "cell_type": "markdown",
   "metadata": {},
   "source": [
    "KW-test"
   ]
  },
  {
   "cell_type": "code",
   "execution_count": 42,
   "metadata": {},
   "outputs": [],
   "source": [
    "#Set your Exp_id & condition\n",
    "Exp_id = \"\"\n",
    "cond = [\"PUF1\",\"cobA\"]\n",
    "\n",
    "res_df = df.iloc[:,0:3]\n",
    "try:\n",
    "    for i in range(df.shape[0]):\n",
    "        t,p = stats.kruskal( [float(x) for x in (df.loc[i,[x for x in df.columns if Exp_id in x and cond[0] in x]])], \n",
    "                             [float(x) for x in (df.loc[i,[x for x in df.columns if Exp_id in x and cond[1] in x]])],\n",
    "                             nan_policy = 'omit')\n",
    "        res_df.loc[i,\"htest_pval_\" + Exp_id + \"_\" + \"vs\".join(cond) ] = p\n",
    "        res_df.loc[i,\"htest_tscore_\" + Exp_id  + \"_\" + \"vs\".join(cond)] = t\n",
    "        if isinstance(t,str):\n",
    "            print(\"yes\")\n",
    "except Exception as e:\n",
    "    print(e)        \n",
    "    \n",
    "res_df[\"htest_pval_\" + Exp_id + \"_\" + \"vs\".join(cond)].replace(np.nan, 1.0 , inplace=True)\n",
    "res_df[\"htest_tscore_\" + Exp_id + \"_\" + \"vs\".join(cond)].replace(np.nan, 1.0 , inplace=True)\n",
    "\n",
    "    \n",
    "cols = res_df.columns.tolist()\n",
    "\n",
    "new_cols = cols[1:] + [cols[0]]\n",
    "new_cols\n",
    "\n",
    "res_df_new = res_df[new_cols]\n",
    "\n",
    "res_df_new.to_csv(\"htest4mcg_\" + Exp_id + \"_\" + \"vs\".join(cond) + \".txt\", sep='\\t', index = None)"
   ]
  },
  {
   "cell_type": "markdown",
   "metadata": {},
   "source": [
    "U-Whiney test"
   ]
  },
  {
   "cell_type": "code",
   "execution_count": 47,
   "metadata": {},
   "outputs": [
    {
     "name": "stdout",
     "output_type": "stream",
     "text": [
      "All numbers are identical in mannwhitneyu\n"
     ]
    }
   ],
   "source": [
    "#Set your Exp_id & condition\n",
    "Exp_id = \"_6_\"\n",
    "cond = [\"PUF1\",\"cobA\"]\n",
    "\n",
    "res_df = df.iloc[:,0:3]\n",
    "try:\n",
    "    for i in range(df.shape[0]):\n",
    "        t,p = stats.mannwhitneyu( [float(x) for x in (df.loc[i,[x for x in df.columns if Exp_id in x and cond[0] in x]])], \n",
    "                                  [float(x) for x in (df.loc[i,[x for x in df.columns if Exp_id in x and cond[1] in x]])],\n",
    "                                  use_continuity=True, alternative='two-sided')\n",
    "        res_df.loc[i,\"utest_pval_\" + Exp_id + \"_\" + \"vs\".join(cond) ] = p\n",
    "        res_df.loc[i,\"utest_tscore_\" + Exp_id  + \"_\" + \"vs\".join(cond)] = t\n",
    "        if isinstance(t,str):\n",
    "            print(\"yes\")\n",
    "except Exception as e:\n",
    "    print(e)        \n",
    "    \n",
    "res_df[\"utest_pval_\" + Exp_id + \"_\" + \"vs\".join(cond)].replace(np.nan, 1.0 , inplace=True)\n",
    "res_df[\"utest_tscore_\" + Exp_id + \"_\" + \"vs\".join(cond)].replace(np.nan, 1.0 , inplace=True)\n",
    "\n",
    "    \n",
    "cols = res_df.columns.tolist()\n",
    "\n",
    "new_cols = cols[1:] + [cols[0]]\n",
    "new_cols\n",
    "\n",
    "res_df_new = res_df[new_cols]\n",
    "\n",
    "res_df_new.to_csv(\"utest4mcg_\" + Exp_id + \"_\" + \"vs\".join(cond) + \".txt\", sep='\\t', index = None)"
   ]
  }
 ],
 "metadata": {
  "kernelspec": {
   "display_name": "Python 3",
   "language": "python",
   "name": "python3"
  },
  "language_info": {
   "codemirror_mode": {
    "name": "ipython",
    "version": 3
   },
   "file_extension": ".py",
   "mimetype": "text/x-python",
   "name": "python",
   "nbconvert_exporter": "python",
   "pygments_lexer": "ipython3",
   "version": "3.6.5"
  }
 },
 "nbformat": 4,
 "nbformat_minor": 2
}
